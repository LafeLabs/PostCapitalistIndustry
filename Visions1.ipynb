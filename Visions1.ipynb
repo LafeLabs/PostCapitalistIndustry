{
 "cells": [
  {
   "cell_type": "markdown",
   "metadata": {
    "collapsed": true
   },
   "source": [
    "# Visions of the future:\n",
    "\n",
    "\n",
    "1. a storm is coming!  A festival, how the post capitalist world deals with large energy events, as contrasted to the dark capitalist future where \"problems\" are \"solved\" with \"money\"\n",
    "2. Trash wizards settle the valley\n",
    "3. The Ent Moot, a long slow journey\n",
    "4. SeaTown, the amphibious urban jungle of the future\n"
   ]
  },
  {
   "cell_type": "markdown",
   "metadata": {
    "collapsed": true
   },
   "source": [
    "# Heat Sinks\n",
    "\n",
    "\n",
    "One of the calculations I keep coming back to is how much energy I want as a individual person to have a good life.  What does a good life mean? There is light, various machines, transportation, communication, medicine, refrigeration and heating of food, growing of food, and of course heat and air conditioning.  These last two can easily eat up vast portions of your energy budget, dominating everything else and make apparently relatively similar lifestyles drastically different in energy foot print with no difference in quality of life(air conditioning a house with shade trees and good ventilation vs. neither of those). \n",
    "\n",
    "Peoeple should, I believe, always try to live with a strong thermal link to a opposing heat sink.  As the climate heats up and the oceans swallow the coastal cities, which get reclaimed by trash wizardry, the obvious heat sink is the cool water of the ocean.  Perhaps it's not that cool, and it depends on where you live, but there are a lot of heavily populated areas where even as both ocean temperatures and air temperatures rise, the water will continue to be so much cooler than the air that it can be a fantastic heat sink.  With green shade canopy grown from purified ocean water and housing connected to deep water heat sinks, only some movement of air and water will be needed to regulate a comfortable temperature.  With this massive amount of water surface area, additional cooling power from pumping on water(pumps driven by electricity from currents and waves and wind and sun) to evaporate it can augment this to create a ambient energy driven system that gives comfortable temperatures inside and in many cases with microclimates \"outside\" that are cooler than the outside air.  \n",
    "\n",
    "Very cold climates can get thermal help by digging down.  NOt everywhere has geothermal that is a useful source of energy in the traditional sense, but even a heat sink at 55 degrees F could be a huge resource in a region with -40 degrees F above ground.  This combination of temperatures is true in many places people live in the north.  If good, well regulated thermal links are provided between dwellings and warmer underground spaces, getting up to 50 degrees F should be \"free\", and all that is needed is to warm another 15 or 20 degrees F, easily accomplished with direct solar heat and wind-electric heat.\n",
    "\n",
    "Which reminds me, one of the demonstrations should probably be a generator that heats water using the wind with electricity.  High impedance wind turbine for ultra high winds, on a kite, 100's of W, boil water from a storm, this is a survival tool.\n",
    "\n",
    "\n"
   ]
  },
  {
   "cell_type": "markdown",
   "metadata": {},
   "source": [
    "# A micro Freight Rail system\n",
    "\n",
    "Freight moves using electric motors along various cables, like the sky lines in bio shock infinite.  These motors use high voltage capacitors for energy sources.  The needed energy is always a margin less than what the cap has, but in an emergency, a rescue unit will drag a dead sky hook unit to the next station.  At each station, the high voltage capacitor is physically handed off to the local robot that hooks that up to the ambient charging station and instantly hands off a fully charged capacitor to the passing cart.  Thus it can go indefinitely by grabbing capacitors and dropping them off at each station, as long as cars pass infrequently relative to the charging time of a capacitor.  With infrequent travel times, say once or twice a day for some minor frieght needs, getting that energy over several hours is trivial even with tiny available energy that is very uneven in available load. \n",
    "\n",
    "This suspended freight rail system high above the ground powered only by wind and sun and rain is surely worth building as a demo as well.  Should be very impressive, and easy to deploy in very wide ranges of environment."
   ]
  },
  {
   "cell_type": "markdown",
   "metadata": {},
   "source": [
    "#  Building an Ent\n",
    "\n",
    "The fractal mater reactor should be alive.  Trees, bushes, grass, etc. can grow all around it, with roots going into various fractal channels which provide nutreince.  These liquid spaces can have various animals and fungi and microorganisms, creating a whole ecosystem.  Imagine an island built up of such mater, the size of a small building, covered with trees.  Ambient energy is used to slowly build up and discharge electrical energy to operate philosophy engines which slowly walk the whole thing across the landscape.  With little or even no human intervention, this limbering living giant might spend decades crawling up and down hills scouring for junk cars, which it turns into a ever growing robot rumble that it can give away to any passing humans for free at any time.  Building this kind of thing in the ocean can be incredibly powerful.  Whole floating islands filled with fractal reactor technology can wander the high seas, with the humans all underwater in bubbles to ride out storms, picking up storm energy and sea junk, and building a every larger floating city deep out in the ocean.  This aquatic fractal techno city could exist even in a dead world of violent storms and acid oceans and extreme heat.  That's part of why I hate the liberal vision of fighting global warming by trying to make everything into Denmark.  It won't actually work, and then you still have a breakable society.  Sure our society is destroying itself, but so what? Let's build a million new ones, not just one.  And let's expect a future not of competent bureaucrats carefully tabulating the giant World Spreadsheet so everyone can live the life of a middle class urban Sweede but a world where ice ages and supervolcanoes and nuclear wars and devastating earthquakes all happen and where we fucking roll with it and have adventures.  "
   ]
  },
  {
   "cell_type": "code",
   "execution_count": null,
   "metadata": {
    "collapsed": true
   },
   "outputs": [],
   "source": []
  }
 ],
 "metadata": {
  "kernelspec": {
   "display_name": "Python 2",
   "language": "python",
   "name": "python2"
  },
  "language_info": {
   "codemirror_mode": {
    "name": "ipython",
    "version": 2
   },
   "file_extension": ".py",
   "mimetype": "text/x-python",
   "name": "python",
   "nbconvert_exporter": "python",
   "pygments_lexer": "ipython2",
   "version": "2.7.10"
  }
 },
 "nbformat": 4,
 "nbformat_minor": 0
}
