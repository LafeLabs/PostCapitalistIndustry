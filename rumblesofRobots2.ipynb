{
 "cells": [
  {
   "cell_type": "markdown",
   "metadata": {},
   "source": [
    "# A Rumble of Robots \n",
    "\n",
    "The collective noun for robots is “a rumble of robots.”  I’m not sure where I heard this, I think on of my friends may have made it up, but it’s so perfect it’s too good not to use.  So I want to talk about rumbles of robots.  In particular the difference between robots used for consumption and for production.\n",
    " \n",
    "Amazon is in the process of building robot based infrastructure for delivery.  This is fundamentally a consumption driven project.   The main initial figure of merit in the growth of their network will be coverage: the more potential consumers are covered, the better.  This will mean that it is optimal for robots to be as far as possible from other robots.  But how does this picture change for production?\n",
    "\n",
    "Rumbles of robots  are very common on the production side of things.  Those who produce cars and computers and the like often have rumbles of robots, with humans just as technicians who run the machines.  Much like a cow hand or shepherd, I think there should be a name for those who herd rumbles of robots: rumbler.  So the trash wizard is also a rumbler.  And the trash wizard stick is like the shepherd’s crook: a tablet that drives a IoT network that consists of your rumble of robots.\n",
    "\n",
    "That is what seizing the means of production is really all about.  It’s not about seizing an existing factory, which will be based on existing methods, or about building a primitive system that can’t compete.  It’s about building rumbles of robots which can reproduce themselves by harvesting free materials to make more, and then rumbling them around to build what else you need.\n",
    "\n",
    "Key elements of the trash wizards robot rumble are mobility and versatility.  They will run off of locally harvested energy, and be programmed to gather energy as needed as well as materials.  They should scale in that the robots you need for a 10 bot rumble are not so different from a single roninbot or a 1000 bot rumble.  They should be able to reproduce from found materials and forage for those materials with some simple guidance from the rumbler.\n",
    "That is the plan.\n"
   ]
  },
  {
   "cell_type": "markdown",
   "metadata": {},
   "source": [
    "# Another Demo that Must be Built: Octahedral Ball Drone \n",
    "\n",
    "The octahedral ball drone is a octahedron made of three intersecting sticks, with a flexible joint.  Each of the 6 ends has a 2 degree of freedom +/- pair of control coils and magnets with some significant amount of effective length change.  Drivers can use the natural dynamics of the flexing rods to make efficient rolling motion.  I imagine making the first one based on a LiPo battery and Raspberry Pi, with wooden sticks held with a rubber central ball that the sticks can get pushed into.  I imagine the sticks being a total of about 12 to 15 inches long total, so that each pod is about 6-8 inches from the center, and can flex by about 2-3 inches, or 20% to 50% of total.  The amount of play should be just barely more than enough to get the full sphere effect for maximally efficient rolling.  I imagine for the very first version all coils are driven by dumb feedback and it’s an art piece that rolls around in all directions chaotically until the battery dies.  Then all the boards get tied together to a central Raspberry Pi, which gets onto the net for control by a remote console.  Then the code task gets solved for the simplest possible rolling motion with directional bias.  Then some kind of simple chase algorithm is written so that it can track down a target that emits some kind of signal.  This demo could launch a whole robotics project which can be a main support column for The Project.\n"
   ]
  },
  {
   "cell_type": "markdown",
   "metadata": {},
   "source": [
    "# Wind Desert Drift Robots\n",
    "\n",
    "Rolling robots with windmills, they roll, then gather wind electricity into a capacitor, roll again, and repeat.  They can go for hundreds of miles with no intervention.  The instinct to go a certain direction based on navigating off of the sun is programmed  into the physical hardware.  After some long time, maybe many years, the machine calls for help, eventually someone finds it and follows the instructions for repair and improvement.  With generation after generation editing and helping the thing exist, it can exist for hundreds of years, slowly cleaning up wasted sacrafice zones of the old capitalist world.  \n",
    "\n",
    "There are so many machines to build like this!  Machines that comb the ocean for contaminants, using waves go get energy to move around and sort and grab stuff, potentially floating around for years before being found based on a data stream that pulses out periodically, and eventually another type of robot tending robot can grab it, extract the materials it's gathered, and bring it to a floating factory robot rumble.  This kind of robot is important for the ecosystem of the jungle city in the ocean-inundated coastal post apocalypse.  \n",
    "\n",
    "Free robots like this are a rational response to the fact that the existing system has created sacrafice zones.  These sacrafice zones have negative economic value in the old system, making them freely available to be absorbed into the anarchist industrial infrastructure.  This is key: in order to avoid getting crushed by the forces of the old system too early our movement must exist in the fringes of the current system, where the old ways have created land of negative value.  The very fact that land can have negative value, that this is a concept that people accept, should be yet another red flag that assignment of numerical values to real human values is a morally bankrupt act.  \n",
    "\n",
    "This should always be the goal of free technology if it wants to grow exponentially without a lot of resistance: the input must be things deemed of \"negative value\" by the old system.  Unlike most projects in capitalism which constantly drain everyone involved more and more over time, creating generation after generation of institutional burnout.  "
   ]
  },
  {
   "cell_type": "markdown",
   "metadata": {},
   "source": [
    "#  Building an Ent\n",
    "\n",
    "The fractal mater reactor should be alive.  Trees, bushes, grass, etc. can grow all around it, with roots going into various fractal channels which provide nutreince.  These liquid spaces can have various animals and fungi and microorganisms, creating a whole ecosystem.  Imagine an island built up of such mater, the size of a small building, covered with trees.  Ambient energy is used to slowly build up and discharge electrical energy to operate philosophy engines which slowly walk the whole thing across the landscape.  With little or even no human intervention, this limbering living giant might spend decades crawling up and down hills scouring for junk cars, which it turns into a ever growing robot rumble that it can give away to any passing humans for free at any time.  Building this kind of thing in the ocean can be incredibly powerful.  Whole floating islands filled with fractal reactor technology can wander the high seas, with the humans all underwater in bubbles to ride out storms, picking up storm energy and sea junk, and building a every larger floating city deep out in the ocean.  This aquatic fractal techno city could exist even in a dead world of violent storms and acid oceans and extreme heat.  That's part of why I hate the liberal vision of fighting global warming by trying to make everything into Denmark.  It won't actually work, and then you still have a breakable society.  Sure our society is destroying itself, but so what? Let's build a million new ones, not just one.  And let's expect a future not of competent bureaucrats carefully tabulating the giant World Spreadsheet so everyone can live the life of a middle class urban Sweede but a world where ice ages and supervolcanoes and nuclear wars and devastating earthquakes all happen and where we fucking roll with it and have adventures.  "
   ]
  }
 ],
 "metadata": {
  "kernelspec": {
   "display_name": "Python 2",
   "language": "python",
   "name": "python2"
  },
  "language_info": {
   "codemirror_mode": {
    "name": "ipython",
    "version": 2
   },
   "file_extension": ".py",
   "mimetype": "text/x-python",
   "name": "python",
   "nbconvert_exporter": "python",
   "pygments_lexer": "ipython2",
   "version": "2.7.10"
  }
 },
 "nbformat": 4,
 "nbformat_minor": 0
}
