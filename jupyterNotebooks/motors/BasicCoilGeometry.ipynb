{
 "cells": [
  {
   "cell_type": "code",
   "execution_count": 1,
   "metadata": {
    "collapsed": true
   },
   "outputs": [],
   "source": [
    "%matplotlib inline\n",
    "from pylab import *"
   ]
  },
  {
   "cell_type": "markdown",
   "metadata": {},
   "source": [
    "![image](coilCrossSection.png) \n",
    "\n",
    "\n",
    "$\\alpha \\in \\left[-\\frac{a}{2},+\\frac{a}{2}\\right]$\n",
    "\n",
    "$\\beta \\in \\left[-\\frac{b}{2},+\\frac{b}{2}\\right]$\n",
    "\n",
    "$a = nd$\n",
    "\n",
    "$b = md,$\n",
    "\n",
    "where d is the diameter of a wire, assuming that the insualtion thickness is negligible.  Since d is used for the copper conductance calculation in the next section, the accurate version of these equations is \n",
    "\n",
    "$a = n(d + 2t)$ and $b = m(d + 2t),$\n",
    "\n",
    "where t is the insulation thickness.  In most cases I will ignore that and use the above approximation that $\\frac{t}{d} \\ll 1$\n",
    "\n",
    "\n",
    "number of turns $ = N = mn$\n",
    "\n",
    "length = \n",
    "\n",
    "$$\\ell = m\\sum_{\\alpha = -\\frac{a}{2} }^{\\frac{a}{2}} 2\\pi(R + \\alpha)$$"
   ]
  },
  {
   "cell_type": "markdown",
   "metadata": {
    "collapsed": true
   },
   "source": [
    "$$\\frac{1}{a}\\int_{-\\frac{a}{2}}^{\\frac{a}{2}} (R + \\alpha)d\\alpha = R$$\n",
    "\n",
    "$$\\ell = 2\\pi Rmn = 2\\pi RN,$$\n",
    "\n",
    "where N is the number of total turns and R is the radius to the center of the coil.  This is in fact a obvious result: the total length is the number of turns times the average circumference $2\\pi R$.\n",
    "\n",
    "Now I need a FUNCTION to go between d and AWG, with appropriate rounding.\n",
    "\n"
   ]
  },
  {
   "cell_type": "markdown",
   "metadata": {},
   "source": [
    "From https://en.wikipedia.org/wiki/American_wire_gauge :\n",
    "\n",
    "$n = -39\\log_{92} \\left( \\frac{d_{n}}{0.005~\\mathrm{inch}} \\right)+36 = -39\\log_{92} \\left( \\frac{d_{n}}{0.127~\\mathrm{mm}} \\right)+36$\n"
   ]
  },
  {
   "cell_type": "code",
   "execution_count": 30,
   "metadata": {
    "collapsed": false
   },
   "outputs": [
    {
     "name": "stdout",
     "output_type": "stream",
     "text": [
      "24\n"
     ]
    }
   ],
   "source": [
    "d_mils = 20 #diameter in mils(thousanths of an inch)\n",
    "\n",
    "AWG = int(round(36 + -39.0*log(d_mils/5.0)/log(92)))\n",
    "\n",
    "print AWG"
   ]
  },
  {
   "cell_type": "code",
   "execution_count": 31,
   "metadata": {
    "collapsed": false
   },
   "outputs": [
    {
     "name": "stdout",
     "output_type": "stream",
     "text": [
      "24\n"
     ]
    }
   ],
   "source": [
    "d_mm = 0.51 #diameter in mils(thousanths of an inch)\n",
    "\n",
    "AWG = int(round(36 + -39.0*log(d_mm/0.127)/log(92)))\n",
    "\n",
    "print AWG"
   ]
  },
  {
   "cell_type": "markdown",
   "metadata": {},
   "source": [
    "$d_n = 0.005~\\mathrm{inch} \\times 92 ^ \\frac{36-n}{39} = 0.127~\\mathrm{mm} \\times 92 ^ \\frac{36-n}{39}$\n"
   ]
  },
  {
   "cell_type": "code",
   "execution_count": 40,
   "metadata": {
    "collapsed": false
   },
   "outputs": [
    {
     "name": "stdout",
     "output_type": "stream",
     "text": [
      "14.2\n"
     ]
    }
   ],
   "source": [
    "AWG = 27\n",
    "\n",
    "d_mils = round(5.0*92.0**((36.0-AWG)/39.0),1)\n",
    "\n",
    "print d_mils"
   ]
  },
  {
   "cell_type": "code",
   "execution_count": 52,
   "metadata": {
    "collapsed": false
   },
   "outputs": [
    {
     "name": "stdout",
     "output_type": "stream",
     "text": [
      "0.4\n"
     ]
    }
   ],
   "source": [
    "AWG = 26\n",
    "\n",
    "d_mm = round(0.127*92.0**((36.0-AWG)/39.0),2)\n",
    "\n",
    "print d_mm"
   ]
  },
  {
   "cell_type": "markdown",
   "metadata": {},
   "source": [
    "### First Use Case:\n",
    "\n",
    "I start with a desired resistance, find various choices to fill that.  For example, I'm starting with DC resistance at room temperature of 12 $\\Omega$ for one of the basic AC wall driven motors. The idea is to step down the 120 VAC with a 10:1 transformer(100 turns and 10 turns around a ferrite), filter it with a capacitor, and drive the coil drive circuit with that.  \n",
    "\n",
    "Now I will choose a potential AWG, starting with 24.  From $AWG =  24$ we get $\\mathrm{d_{mm}} = 0.51 \\mathrm{ \\ mm}$ for the diameter of the wire.  Radius is then $r = \\frac{d}{2} = 0.25 mm = 0.025 cm$, and so the area in cm is $A_{cm} = \\pi r^2$ "
   ]
  },
  {
   "cell_type": "code",
   "execution_count": 53,
   "metadata": {
    "collapsed": false
   },
   "outputs": [
    {
     "name": "stdout",
     "output_type": "stream",
     "text": [
      "0.00125663706144\n"
     ]
    }
   ],
   "source": [
    "d_cm = d_mm/10.0\n",
    "r_cm = d_cm/2.0\n",
    "A_cm = pi*r_cm**2.0\n",
    "\n",
    "print A_cm"
   ]
  },
  {
   "cell_type": "markdown",
   "metadata": {},
   "source": [
    "Conductivity of wires is compared to the International Annealed Copper Standard (IACS), which is 5.8e7 Siemens/meter or 1.72 micro-Ohm cm, and this is for standard annealed copper wire at 20 degrees C.  \n",
    "\n",
    "$R = \\rho\\ell/A$, \n",
    "\n",
    "where I now have all distances in cm.  And I've introduced redundant notation here with R, but it should be clear from context.  Or I'll change the other one, the big radius, because resistance must always be capital R. \n",
    "\n",
    "Now suppose that the length is 500 cm.  \n"
   ]
  },
  {
   "cell_type": "code",
   "execution_count": 56,
   "metadata": {
    "collapsed": false
   },
   "outputs": [
    {
     "name": "stdout",
     "output_type": "stream",
     "text": [
      "10.9498600847\n"
     ]
    }
   ],
   "source": [
    "length = 8000 #cm, divide by 10 for meters\n",
    "rho = 1.72e-6\n",
    "R = rho*length/A_cm\n",
    "print R"
   ]
  },
  {
   "cell_type": "markdown",
   "metadata": {},
   "source": [
    "These numbers need to be checked and re-checked, and graphs made with graphical \"calculators\".  Also mass and volume should be calculated, and optimization rules of thumb developed.  Also the number of turns. "
   ]
  },
  {
   "cell_type": "code",
   "execution_count": 58,
   "metadata": {
    "collapsed": false
   },
   "outputs": [
    {
     "data": {
      "text/plain": [
       "10.053096491487338"
      ]
     },
     "execution_count": 58,
     "metadata": {},
     "output_type": "execute_result"
    }
   ],
   "source": [
    "volume = length*A_cm\n",
    "volume #in milliliters"
   ]
  },
  {
   "cell_type": "code",
   "execution_count": 63,
   "metadata": {
    "collapsed": false
   },
   "outputs": [
    {
     "data": {
      "text/plain": [
       "10.053096491487338"
      ]
     },
     "execution_count": 63,
     "metadata": {},
     "output_type": "execute_result"
    }
   ],
   "source": [
    "Rad = 1.6\n",
    "a = 1\n",
    "b = 1\n",
    "V = pi*((Rad + 0.5*a)**2 - (Rad - 0.5*a)**2)*b\n",
    "V"
   ]
  },
  {
   "cell_type": "code",
   "execution_count": 3,
   "metadata": {
    "collapsed": false
   },
   "outputs": [
    {
     "name": "stdout",
     "output_type": "stream",
     "text": [
      "Help on function loadtxt in module numpy.lib.npyio:\n",
      "\n",
      "loadtxt(fname, dtype=<type 'float'>, comments='#', delimiter=None, converters=None, skiprows=0, usecols=None, unpack=False, ndmin=0)\n",
      "    Load data from a text file.\n",
      "    \n",
      "    Each row in the text file must have the same number of values.\n",
      "    \n",
      "    Parameters\n",
      "    ----------\n",
      "    fname : file or str\n",
      "        File, filename, or generator to read.  If the filename extension is\n",
      "        ``.gz`` or ``.bz2``, the file is first decompressed. Note that\n",
      "        generators should return byte strings for Python 3k.\n",
      "    dtype : data-type, optional\n",
      "        Data-type of the resulting array; default: float.  If this is a\n",
      "        record data-type, the resulting array will be 1-dimensional, and\n",
      "        each row will be interpreted as an element of the array.  In this\n",
      "        case, the number of columns used must match the number of fields in\n",
      "        the data-type.\n",
      "    comments : str, optional\n",
      "        The character used to indicate the start of a comment;\n",
      "        default: '#'.\n",
      "    delimiter : str, optional\n",
      "        The string used to separate values.  By default, this is any\n",
      "        whitespace.\n",
      "    converters : dict, optional\n",
      "        A dictionary mapping column number to a function that will convert\n",
      "        that column to a float.  E.g., if column 0 is a date string:\n",
      "        ``converters = {0: datestr2num}``.  Converters can also be used to\n",
      "        provide a default value for missing data (but see also `genfromtxt`):\n",
      "        ``converters = {3: lambda s: float(s.strip() or 0)}``.  Default: None.\n",
      "    skiprows : int, optional\n",
      "        Skip the first `skiprows` lines; default: 0.\n",
      "    usecols : sequence, optional\n",
      "        Which columns to read, with 0 being the first.  For example,\n",
      "        ``usecols = (1,4,5)`` will extract the 2nd, 5th and 6th columns.\n",
      "        The default, None, results in all columns being read.\n",
      "    unpack : bool, optional\n",
      "        If True, the returned array is transposed, so that arguments may be\n",
      "        unpacked using ``x, y, z = loadtxt(...)``.  When used with a record\n",
      "        data-type, arrays are returned for each field.  Default is False.\n",
      "    ndmin : int, optional\n",
      "        The returned array will have at least `ndmin` dimensions.\n",
      "        Otherwise mono-dimensional axes will be squeezed.\n",
      "        Legal values: 0 (default), 1 or 2.\n",
      "    \n",
      "        .. versionadded:: 1.6.0\n",
      "    \n",
      "    Returns\n",
      "    -------\n",
      "    out : ndarray\n",
      "        Data read from the text file.\n",
      "    \n",
      "    See Also\n",
      "    --------\n",
      "    load, fromstring, fromregex\n",
      "    genfromtxt : Load data with missing values handled as specified.\n",
      "    scipy.io.loadmat : reads MATLAB data files\n",
      "    \n",
      "    Notes\n",
      "    -----\n",
      "    This function aims to be a fast reader for simply formatted files.  The\n",
      "    `genfromtxt` function provides more sophisticated handling of, e.g.,\n",
      "    lines with missing values.\n",
      "    \n",
      "    Examples\n",
      "    --------\n",
      "    >>> from StringIO import StringIO   # StringIO behaves like a file object\n",
      "    >>> c = StringIO(\"0 1\\n2 3\")\n",
      "    >>> np.loadtxt(c)\n",
      "    array([[ 0.,  1.],\n",
      "           [ 2.,  3.]])\n",
      "    \n",
      "    >>> d = StringIO(\"M 21 72\\nF 35 58\")\n",
      "    >>> np.loadtxt(d, dtype={'names': ('gender', 'age', 'weight'),\n",
      "    ...                      'formats': ('S1', 'i4', 'f4')})\n",
      "    array([('M', 21, 72.0), ('F', 35, 58.0)],\n",
      "          dtype=[('gender', '|S1'), ('age', '<i4'), ('weight', '<f4')])\n",
      "    \n",
      "    >>> c = StringIO(\"1,0,2\\n3,0,4\")\n",
      "    >>> x, y = np.loadtxt(c, delimiter=',', usecols=(0, 2), unpack=True)\n",
      "    >>> x\n",
      "    array([ 1.,  3.])\n",
      "    >>> y\n",
      "    array([ 2.,  4.])\n",
      "\n"
     ]
    }
   ],
   "source": [
    "help(loadtxt)"
   ]
  },
  {
   "cell_type": "code",
   "execution_count": null,
   "metadata": {
    "collapsed": true
   },
   "outputs": [],
   "source": []
  }
 ],
 "metadata": {
  "kernelspec": {
   "display_name": "Python 2",
   "language": "python",
   "name": "python2"
  },
  "language_info": {
   "codemirror_mode": {
    "name": "ipython",
    "version": 2
   },
   "file_extension": ".py",
   "mimetype": "text/x-python",
   "name": "python",
   "nbconvert_exporter": "python",
   "pygments_lexer": "ipython2",
   "version": "2.7.10"
  }
 },
 "nbformat": 4,
 "nbformat_minor": 0
}
