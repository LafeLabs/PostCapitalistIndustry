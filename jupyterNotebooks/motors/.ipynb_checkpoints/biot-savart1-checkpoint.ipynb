{
 "cells": [
  {
   "cell_type": "code",
   "execution_count": 41,
   "metadata": {
    "collapsed": false
   },
   "outputs": [],
   "source": [
    "%matplotlib inline\n",
    "from pylab import *\n",
    "from pint import UnitRegistry\n",
    "ureg = UnitRegistry()\n",
    "from scipy import constants as C\n",
    "mu_0 = C.mu_0*ureg.henry/ureg.meter"
   ]
  },
  {
   "cell_type": "markdown",
   "metadata": {},
   "source": [
    "![vortex](Vortex_filament.png)\n",
    "\n",
    "\n",
    "![](equations_basic_coil.png)\n",
    "\n",
    "![image](coilCrossSection.png) \n",
    "\n"
   ]
  },
  {
   "cell_type": "markdown",
   "metadata": {},
   "source": [
    "#### The following is copied directly from Wikipedia:\n",
    "\n",
    "https://en.wikipedia.org/wiki/Biot–Savart_law\n",
    "\n",
    "Biot-Savart Law:\n",
    "\n",
    "$ \\mathbf{B}(\\mathbf{r}) = \\frac{\\mu_0}{4\\pi} \\int_C \\frac{I d\\mathbf l\\times\\mathbf{r'}}{|\\mathbf{r'}|^3}$\n",
    "\n",
    "where $d\\mathbf{l}$ is a vector whose magnitude is the length of the differential element of the wire in the direction of conventional current, $\\mathbf{r'} = \\mathbf{r} - \\mathbf{l}$, the full displacement vector from the wire element $(\\mathbf{l})$ to the point at which the field is being computed $(\\mathbf{r})$, and μ0 is the magnetic constant. Alternatively:\n",
    "\n",
    "$ \\mathbf{B}(\\mathbf{r}) = \\frac{\\mu_0}{4\\pi}\\int_C \\frac{I d\\mathbf l\\times\\mathbf{\\hat r'}}{|\\mathbf{r'}|^2}$\n",
    "\n",
    "where $\\mathbf{\\hat r'}$ is the unit vector of $\\mathbf{r'}$. The symbols in boldface denote vector quantities.\n",
    "\n"
   ]
  },
  {
   "cell_type": "markdown",
   "metadata": {},
   "source": [
    "$\\mathbf{r}_{coil} = (R + \\alpha)\\cos{\\theta} \\mathbf{\\hat{x}} + \n",
    "(R + \\alpha)\\sin{\\theta} \\mathbf{\\hat{y}} +\n",
    "\\beta\\mathbf{\\hat{z}}\n",
    "$\n",
    "\n",
    "$\\mathbf{r} = x\\mathbf{\\hat{x}} + y\\mathbf{\\hat{y}} + z\\mathbf{\\hat{z}}$\n",
    "\n",
    "Let's keep the point we measure at in the xz plane, because rotational symmetry allows us to do that.  Thus y=0 always, and \n",
    "\n",
    "$\\mathbf{r} = x\\mathbf{\\hat{x}} + z\\mathbf{\\hat{z}}$\n",
    "\n",
    "\n",
    "$\\mathbf{r'} = \\mathbf{r} - \\mathbf{r}_{coil} = \n",
    "[x - (R + \\alpha)\\cos{\\theta}]\\mathbf{\\hat{x}} +\n",
    "[y - (R + \\alpha)\\sin{\\theta}]\\mathbf{\\hat{y}} +\n",
    "[z - \\beta]\\mathbf{\\hat{z}}\n",
    "$\n",
    "\n"
   ]
  },
  {
   "cell_type": "markdown",
   "metadata": {},
   "source": [
    "$\\mathbf{\\hat{\\rho}} = \\cos{\\theta}\\mathbf{\\hat{x}} + \\sin{\\theta}\\mathbf{\\hat{y}}$\n",
    "\n",
    "$\\mathbf{\\hat{i}} = -\\sin{\\theta}\\mathbf{\\hat{x}} + \\cos{\\theta}\\mathbf{\\hat{y}} = \\hat{\\mathbf{\\theta}}$"
   ]
  },
  {
   "cell_type": "markdown",
   "metadata": {
    "collapsed": true
   },
   "source": [
    "I now move everything over to cylindrical polar coordinates.  So now the variables are $\\rho$, $\\theta$ and z, where $\\rho$ is the distance from the z axis, and $\\theta$ and z are as above.  \n",
    "\n",
    "Again, our unit vectors are now:\n",
    "\n",
    "$\\hat{\\mathbf{z}}$,\n",
    "\n",
    "$\\mathbf{\\hat{\\rho}} = \\cos{\\theta}\\mathbf{\\hat{x}} + \\sin{\\theta}\\mathbf{\\hat{y}}$, \n",
    "\n",
    "and \n",
    "\n",
    "$\\hat{\\mathbf{\\theta}} = -\\sin{\\theta}\\mathbf{\\hat{x}} + \\cos{\\theta}\\mathbf{\\hat{y}}$.\n",
    "\n",
    "Note that $(\\mathbf{\\hat{\\rho}},\\hat{\\mathbf{\\theta}},\\hat{\\mathbf{z}})$ form a right handed basis. \n"
   ]
  },
  {
   "cell_type": "markdown",
   "metadata": {},
   "source": [
    "$$\\mathbf{r}_{coil} = (R + \\alpha)\\mathbf{\\hat{\\rho}} + \\beta\\mathbf{\\hat{z}}$$\n",
    "\n",
    "$$\\mathbf{r} = \\rho\\mathbf{\\hat{\\rho}} + z\\mathbf{\\hat{z}}$$\n",
    "\n",
    "for r, the position of the magnetometer, it's ok to just set $\\theta$ to zero because of symmetry.  However we must integrate around the loop, so $\\mathbf{r}_{coil}$ must have a component along the  $\\mathbf{\\hat{\\theta}}$ direction, right?  I don't really know, I'm a bit lost. Need more pictures.\n",
    "\n"
   ]
  },
  {
   "cell_type": "markdown",
   "metadata": {},
   "source": [
    "$$\n",
    "\\mathbf{r'} = \\mathbf{r} - \\mathbf{r}_{coil} = (\\rho - R - \\alpha)\\hat{\\mathbf{\\rho}} + (z - \\beta)\\mathbf{\\hat{z}}\n",
    "$$\n",
    "\n",
    "\n",
    "Polar may be more trouble than it's worth to set up the integral.  \n",
    "\n",
    "\n",
    "$ \\mathbf{B}(\\mathbf{r}) = \\frac{\\mu_0}{4\\pi} \\int_C \\frac{I d\\mathbf l\\times\\mathbf{r'}}{|\\mathbf{r'}|^3}$\n",
    "\n"
   ]
  },
  {
   "cell_type": "markdown",
   "metadata": {},
   "source": [
    "\n",
    "$ \\mathbf{B}(\\mathbf{r}) = \\frac{\\mu_0}{4\\pi} \\int_C \\frac{I d\\mathbf l\\times\\mathbf{r'}}{|\\mathbf{r'}|^3}$\n",
    "\n",
    "$=\\frac{I\\mu_0}{4\\pi}\\int_C \\frac{ d\\mathbf l\\times\\mathbf{r'}}{|\\mathbf{r'}|^3}$\n"
   ]
  },
  {
   "cell_type": "markdown",
   "metadata": {},
   "source": [
    "$r' = (x - R - \\alpha)\\cos{\\theta}\\mathbf{\\hat{x}} +\n",
    "( - R - \\alpha)\\sin{\\theta}\\mathbf{\\hat{y}} +\n",
    "(z - \\beta)\\mathbf{\\hat{z}}$"
   ]
  },
  {
   "cell_type": "markdown",
   "metadata": {
    "collapsed": true
   },
   "source": [
    "For the simplest case we consider only points along the z axis.  In this case, x = 0, and \n",
    "\n",
    "$\\mathbf{r}' = ( - R - \\alpha)\\cos{\\theta}\\mathbf{\\hat{x}} +\n",
    "( - R - \\alpha)\\sin{\\theta}\\mathbf{\\hat{y}} +\n",
    "(z - \\beta)\\mathbf{\\hat{z}}$\n",
    "\n"
   ]
  },
  {
   "cell_type": "markdown",
   "metadata": {},
   "source": [
    "$d\\mathbf{l} = -(R+\\alpha)d\\theta{\\hat{\\theta}}$"
   ]
  },
  {
   "cell_type": "markdown",
   "metadata": {},
   "source": [
    "$ \\mathbf{B}(\\mathbf{r}) = \n",
    "-\\frac{(R + \\alpha)I\\mu_0}{4\\pi}\\int_0^{2\\pi} d\\theta \\frac{ \\hat{\\theta}\\times\\mathbf{r'}}{|\\mathbf{r'}|^3}$\n",
    "\n"
   ]
  },
  {
   "cell_type": "markdown",
   "metadata": {},
   "source": [
    "$$\n",
    "\\hat{\\theta}\\times\\mathbf{r'}=\n",
    "\\begin{vmatrix}\n",
    "\\mathbf{\\hat{x}}&\\mathbf{\\hat{y}}&\\mathbf{\\hat{z}}\\\\\n",
    "-\\sin{\\theta}&\\cos{\\theta}&0\\\\\n",
    "( - R - \\alpha)\\cos{\\theta}&( - R - \\alpha)\\sin{\\theta}&(z - \\beta)\\\\\n",
    "\\end{vmatrix}\n",
    "$$\n"
   ]
  },
  {
   "cell_type": "markdown",
   "metadata": {},
   "source": [
    "$\n",
    "= (z - \\beta)\\cos{\\theta}\\mathbf{\\hat{x}} + (z - \\beta)\\sin{\\theta}\\mathbf{\\hat{y}} + (R + \\alpha)(\\sin^2{\\theta} + \\cos^2{\\theta})\\mathbf{\\hat{z}}\n",
    "$"
   ]
  },
  {
   "cell_type": "markdown",
   "metadata": {},
   "source": [
    "$\\int_0^{2\\pi}\\sin{\\theta} = \\int_0^{2\\pi}\\cos{\\theta}= 0 $,\n",
    "\n",
    "and of course\n",
    "\n",
    "$\\int_0^{2\\pi}d\\theta = 2\\pi$"
   ]
  },
  {
   "cell_type": "markdown",
   "metadata": {},
   "source": [
    "$ \\mathbf{B}(\\mathbf{r}) = \n",
    "-\\frac{(R + \\alpha)I\\mu_0}{4\\pi} 2\\pi \\frac{ (R+\\alpha)\\mathbf{\\hat{z}} }{|\\mathbf{r'}|^3}$\n",
    "\n",
    "$\n",
    "=-\\frac{(R + \\alpha)^2I\\mu_0}{2}  \\frac{ \\mathbf{\\hat{z}} }{|\\mathbf{r'}|^3}\n",
    "$\n"
   ]
  },
  {
   "cell_type": "markdown",
   "metadata": {},
   "source": [
    "$\\mathbf{m} \\equiv I\\pi(R+\\alpha)^2 \\hat{\\mathbf{z}}$\n",
    "\n",
    "$|\\mathbf{r'}| = \\sqrt{(R+\\alpha)^2 + (z-\\beta)^2}$, \n",
    "\n",
    "which agrees with what the Internet says that Griffiths says:\n",
    "\n",
    "http://www.physicspages.com/2013/04/11/magnetic-dipole-moment-of-a-current-loop/\n",
    "\n",
    "So now I have a formula for the exact value on the z axis for any loop of current displaced from radius R and height z = 0 by $\\alpha$ and $\\beta$ respectively.  Next I want to compare that to the ideal loop with the same moment.  ALso, I want to go through the Helmholtz coil calculations because that's something that should be in here as a canonical example that will come up in my version of motor design.\n"
   ]
  },
  {
   "cell_type": "markdown",
   "metadata": {},
   "source": [
    "$ \\mathbf{B}(\\mathbf{r}) = \n",
    "-\\frac{(R + \\alpha)I\\mu_0}{4\\pi} 2\\pi \\frac{ (R+\\alpha)\\mathbf{\\hat{z}} }{|\\mathbf{r'}|^3}$\n",
    "\n",
    "$\n",
    "=-\\frac{(R + \\alpha)^2I\\mu_0}{2}  \\frac{ \\mathbf{\\hat{z}} }{|\\mathbf{r'}|^3}\n",
    "$\n",
    "\n",
    "$\n",
    "=\\frac{\\mu_0}{2\\pi}  \\frac{ \\mathbf{m} }{|\\mathbf{r'}|^3},\n",
    "$\n",
    "\n",
    "which at large distances is a special case of the general formula for a ideal dipole:\n",
    "\n",
    "$\\mathbf{B} = \\frac{\\mu_0}{4\\pi r^3}[3(\\mathbf{m}\\cdot \\mathbf{\\hat{r}})\\mathbf{\\hat{r}} - \\mathbf{m}]\n",
    "$\n",
    "\n",
    "The other huge thing that needs to be done here is to add up all the loops that make up our coil.  "
   ]
  },
  {
   "cell_type": "code",
   "execution_count": 91,
   "metadata": {
    "collapsed": false
   },
   "outputs": [
    {
     "data": {
      "text/plain": [
       "[-100, 100, 0, 10]"
      ]
     },
     "execution_count": 91,
     "metadata": {},
     "output_type": "execute_result"
    },
    {
     "data": {
      "image/png": "[encoded data removed]",
      "text/plain": [
       "<matplotlib.figure.Figure at 0x1081e1f50>"
      ]
     },
     "metadata": {},
     "output_type": "display_data"
    }
   ],
   "source": [
    "z = linspace(-100,100,1000)*ureg.cm\n",
    "#z.to(ureg.m)\n",
    "R = 1.0*ureg.cm\n",
    "alpha = 0.*ureg.cm\n",
    "beta = 0.*ureg.cm\n",
    "\n",
    "rprime = sqrt((R + alpha)**2 + (z-beta)**2)\n",
    "rprime.ito(ureg.m)\n",
    "R.ito(ureg.m)\n",
    "alpha.ito(ureg.m)\n",
    "beta.ito(ureg.m)\n",
    "z.ito(ureg.m)\n",
    "\n",
    "A = pi*(R+alpha)**2\n",
    "I = 1.0*ureg.amps\n",
    "m = A*I\n",
    "\n",
    "B = m*(mu_0/(2*pi))/rprime**3.\n",
    "\n",
    "B2 = m*(mu_0/(2*pi))/(z+0.01*ureg.m)**3.\n",
    "B2 = abs(B2)\n",
    "semilogy(z.to(ureg.cm),B2.to(ureg.microtesla),z.to(ureg.cm),B.to(ureg.microtesla),linewidth =2)\n",
    "#plot(z.to(ureg.cm),B2.to(ureg.microtesla),linewidth =2)\n",
    "grid()\n",
    "xlabel('z[cm]')\n",
    "ylabel('B[$\\mu$T]')\n",
    "axis([-100,100,0,10])"
   ]
  },
  {
   "cell_type": "code",
   "execution_count": 92,
   "metadata": {
    "collapsed": false
   },
   "outputs": [
    {
     "data": {
      "text/plain": [
       "[-100, -0.5, 0, 10]"
      ]
     },
     "execution_count": 92,
     "metadata": {},
     "output_type": "execute_result"
    },
    {
     "data": {
      "image/png": "[encoded data removed]",
      "text/plain": [
       "<matplotlib.figure.Figure at 0x108df0690>"
      ]
     },
     "metadata": {},
     "output_type": "display_data"
    }
   ],
   "source": [
    "plot(z.to(ureg.cm),100*abs(B2.to(ureg.microtesla)-B.to(ureg.microtesla))/B2.to(ureg.microtesla),linewidth =2)\n",
    "#plot(z.to(ureg.cm),B2.to(ureg.microtesla),linewidth =2)\n",
    "grid()\n",
    "xlabel('z[cm]')\n",
    "ylabel('% deviation')\n",
    "axis([-100,-.5,0,10])"
   ]
  },
  {
   "cell_type": "code",
   "execution_count": 74,
   "metadata": {
    "collapsed": false
   },
   "outputs": [
    {
     "data": {
      "text/plain": [
       "[<matplotlib.lines.Line2D at 0x106f543d0>]"
      ]
     },
     "execution_count": 74,
     "metadata": {},
     "output_type": "execute_result"
    },
    {
     "data": {
      "image/png": "[encoded data removed]",
      "text/plain": [
       "<matplotlib.figure.Figure at 0x108779250>"
      ]
     },
     "metadata": {},
     "output_type": "display_data"
    }
   ],
   "source": [
    "plot(rprime-z)"
   ]
  },
  {
   "cell_type": "code",
   "execution_count": null,
   "metadata": {
    "collapsed": true
   },
   "outputs": [],
   "source": []
  }
 ],
 "metadata": {
  "kernelspec": {
   "display_name": "Python 2",
   "language": "python",
   "name": "python2"
  },
  "language_info": {
   "codemirror_mode": {
    "name": "ipython",
    "version": 2
   },
   "file_extension": ".py",
   "mimetype": "text/x-python",
   "name": "python",
   "nbconvert_exporter": "python",
   "pygments_lexer": "ipython2",
   "version": "2.7.10"
  }
 },
 "nbformat": 4,
 "nbformat_minor": 0
}
