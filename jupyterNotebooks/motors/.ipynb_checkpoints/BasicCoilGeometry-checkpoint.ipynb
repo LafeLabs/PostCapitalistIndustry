{
 "cells": [
  {
   "cell_type": "code",
   "execution_count": 1,
   "metadata": {
    "collapsed": true
   },
   "outputs": [],
   "source": [
    "%matplotlib inline\n",
    "from pylab import *"
   ]
  },
  {
   "cell_type": "markdown",
   "metadata": {},
   "source": [
    "![image](coilCrossSection.png) \n",
    "\n",
    "\n",
    "$\\alpha \\in \\left[-\\frac{a}{2},+\\frac{a}{2}\\right]$\n",
    "\n",
    "$\\beta \\in \\left[-\\frac{b}{2},+\\frac{b}{2}\\right]$\n",
    "\n",
    "$a = nd$\n",
    "\n",
    "$b = md,$\n",
    "\n",
    "where d is the diameter of a wire, assuming that the insualtion thickness is negligible.  Since d is used for the copper conductance calculation in the next section, the accurate version of these equations is \n",
    "\n",
    "$a = n(d + 2t)$ and $b = m(d + 2t),$\n",
    "\n",
    "where t is the insulation thickness.  In most cases I will ignore that and use the above approximation that $\\frac{t}{d} \\ll 1$\n",
    "\n",
    "\n",
    "number of turns $ = N = mn$\n",
    "\n",
    "length = \n",
    "\n",
    "$$\\ell = m\\sum_{\\alpha = -\\frac{a}{2} }^{\\frac{a}{2}} 2\\pi(R + \\alpha)$$"
   ]
  },
  {
   "cell_type": "markdown",
   "metadata": {
    "collapsed": true
   },
   "source": [
    "$$\\frac{1}{a}\\int_{-\\frac{a}{2}}^{\\frac{a}{2}} (R + \\alpha)d\\alpha = R$$\n",
    "\n",
    "$$\\ell = 2\\pi Rmn = 2\\pi RN,$$\n",
    "\n",
    "where N is the number of total turns and R is the radius to the center of the coil.  This is in fact a obvious result: the total length is the number of turns times the average circumference $2\\pi R$.\n",
    "\n",
    "Now I need a FUNCTION to go between d and AWG, with appropriate rounding.\n",
    "\n"
   ]
  },
  {
   "cell_type": "markdown",
   "metadata": {},
   "source": [
    "From https://en.wikipedia.org/wiki/American_wire_gauge :\n",
    "\n",
    "$n = -39\\log_{92} \\left( \\frac{d_{n}}{0.005~\\mathrm{inch}} \\right)+36 = -39\\log_{92} \\left( \\frac{d_{n}}{0.127~\\mathrm{mm}} \\right)+36$\n"
   ]
  },
  {
   "cell_type": "code",
   "execution_count": null,
   "metadata": {
    "collapsed": false
   },
   "outputs": [],
   "source": [
    "d_mils = 20 #diameter in mils(thousanths of an inch)\n",
    "\n",
    "AWG = int(round(36 + -39.0*log(d_mils/5.0)/log(92)))\n",
    "\n",
    "print AWG"
   ]
  },
  {
   "cell_type": "code",
   "execution_count": null,
   "metadata": {
    "collapsed": false
   },
   "outputs": [],
   "source": [
    "d_mm = 0.51 #diameter in mils(thousanths of an inch)\n",
    "\n",
    "AWG = int(round(36 + -39.0*log(d_mm/0.127)/log(92)))\n",
    "\n",
    "print AWG"
   ]
  },
  {
   "cell_type": "markdown",
   "metadata": {},
   "source": [
    "$d_n = 0.005~\\mathrm{inch} \\times 92 ^ \\frac{36-n}{39} = 0.127~\\mathrm{mm} \\times 92 ^ \\frac{36-n}{39}$\n"
   ]
  },
  {
   "cell_type": "code",
   "execution_count": null,
   "metadata": {
    "collapsed": false
   },
   "outputs": [],
   "source": [
    "AWG = 27\n",
    "\n",
    "d_mils = round(5.0*92.0**((36.0-AWG)/39.0),1)\n",
    "\n",
    "print d_mils"
   ]
  },
  {
   "cell_type": "code",
   "execution_count": null,
   "metadata": {
    "collapsed": false
   },
   "outputs": [],
   "source": [
    "AWG = 26\n",
    "\n",
    "d_mm = round(0.127*92.0**((36.0-AWG)/39.0),2)\n",
    "\n",
    "print d_mm"
   ]
  },
  {
   "cell_type": "markdown",
   "metadata": {},
   "source": [
    "### First Use Case:\n",
    "\n",
    "I start with a desired resistance, find various choices to fill that.  For example, I'm starting with DC resistance at room temperature of 12 $\\Omega$ for one of the basic AC wall driven motors. The idea is to step down the 120 VAC with a 10:1 transformer(100 turns and 10 turns around a ferrite), filter it with a capacitor, and drive the coil drive circuit with that.  \n",
    "\n",
    "Now I will choose a potential AWG, starting with 24.  From $AWG =  24$ we get $\\mathrm{d_{mm}} = 0.51 \\mathrm{ \\ mm}$ for the diameter of the wire.  Radius is then $r = \\frac{d}{2} = 0.25 mm = 0.025 cm$, and so the area in cm is $A_{cm} = \\pi r^2$ "
   ]
  },
  {
   "cell_type": "code",
   "execution_count": null,
   "metadata": {
    "collapsed": false
   },
   "outputs": [],
   "source": [
    "d_cm = d_mm/10.0\n",
    "r_cm = d_cm/2.0\n",
    "A_cm = pi*r_cm**2.0\n",
    "\n",
    "print A_cm"
   ]
  },
  {
   "cell_type": "markdown",
   "metadata": {},
   "source": [
    "Conductivity of wires is compared to the International Annealed Copper Standard (IACS), which is 5.8e7 Siemens/meter or 1.72 micro-Ohm cm, and this is for standard annealed copper wire at 20 degrees C.  \n",
    "\n",
    "$R = \\rho\\ell/A$, \n",
    "\n",
    "where I now have all distances in cm.  And I've introduced redundant notation here with R, but it should be clear from context.  Or I'll change the other one, the big radius, because resistance must always be capital R. \n",
    "\n",
    "Now suppose that the length is 500 cm.  \n"
   ]
  },
  {
   "cell_type": "code",
   "execution_count": null,
   "metadata": {
    "collapsed": false
   },
   "outputs": [],
   "source": [
    "length = 8000 #cm, divide by 10 for meters\n",
    "rho = 1.72e-6\n",
    "R = rho*length/A_cm\n",
    "print R"
   ]
  },
  {
   "cell_type": "markdown",
   "metadata": {},
   "source": [
    "These numbers need to be checked and re-checked, and graphs made with graphical \"calculators\".  Also mass and volume should be calculated, and optimization rules of thumb developed.  Also the number of turns. "
   ]
  },
  {
   "cell_type": "code",
   "execution_count": null,
   "metadata": {
    "collapsed": false
   },
   "outputs": [],
   "source": [
    "volume = length*A_cm\n",
    "volume #in milliliters"
   ]
  },
  {
   "cell_type": "code",
   "execution_count": null,
   "metadata": {
    "collapsed": false
   },
   "outputs": [],
   "source": [
    "Rad = 1.6\n",
    "a = 1\n",
    "b = 1\n",
    "V = pi*((Rad + 0.5*a)**2 - (Rad - 0.5*a)**2)*b\n",
    "V"
   ]
  },
  {
   "cell_type": "code",
   "execution_count": 12,
   "metadata": {
    "collapsed": false
   },
   "outputs": [
    {
     "name": "stdout",
     "output_type": "stream",
     "text": [
      "0  |  8.25  |   |  324.9\n",
      "1  |  7.35  |   |  289.3\n",
      "2  |  6.54  |   |  257.6\n",
      "3  |  5.83  |   |  229.4\n",
      "4  |  5.19  |   |  204.3\n",
      "5  |  4.62  |   |  181.9\n",
      "6  |  4.12  |   |  162.0\n",
      "7  |  3.66  |   |  144.3\n",
      "8  |  3.26  |   |  128.5\n",
      "9  |  2.91  |   |  114.4\n",
      "10  |  2.59  |   |  101.9\n",
      "11  |  2.3  |   |  90.7\n",
      "12  |  2.05  |   |  80.8\n",
      "13  |  1.83  |   |  72.0\n",
      "14  |  1.63  |   |  64.1\n",
      "15  |  1.45  |   |  57.1\n",
      "16  |  1.29  |   |  50.8\n",
      "17  |  1.15  |   |  45.3\n",
      "18  |  1.02  |   |  40.3\n",
      "19  |  0.91  |   |  35.9\n",
      "20  |  0.81  |   |  32.0\n",
      "21  |  0.72  |   |  28.5\n",
      "22  |  0.64  |   |  25.3\n",
      "23  |  0.57  |   |  22.6\n",
      "24  |  0.51  |   |  20.1\n",
      "25  |  0.45  |   |  17.9\n",
      "26  |  0.4  |   |  15.9\n",
      "27  |  0.36  |   |  14.2\n",
      "28  |  0.32  |   |  12.6\n",
      "29  |  0.29  |   |  11.3\n",
      "30  |  0.25  |   |  10.0\n",
      "31  |  0.23  |   |  8.9\n",
      "32  |  0.2  |   |  8.0\n",
      "33  |  0.18  |   |  7.1\n",
      "34  |  0.16  |   |  6.3\n",
      "35  |  0.14  |   |  5.6\n",
      "36  |  0.13  |   |  5.0\n",
      "37  |  0.11  |   |  4.5\n",
      "38  |  0.1  |   |  4.0\n",
      "39  |  0.09  |   |  3.5\n"
     ]
    }
   ],
   "source": [
    "\n",
    "for AWG in range(40):\n",
    "    print AWG, \n",
    "    print(\" | \"),\n",
    "    d_mm = round(0.127*92.0**((36.0-AWG)/39.0),2)\n",
    "    print d_mm,\n",
    "    print(\" | \"),\n",
    "    d_mils = round(5.0*92.0**((36.0-AWG)/39.0),1)\n",
    "    print(\" | \"),\n",
    "    print d_mils\n",
    "\n"
   ]
  },
  {
   "cell_type": "code",
   "execution_count": null,
   "metadata": {
    "collapsed": false
   },
   "outputs": [],
   "source": [
    "print(\"butt %d\",%5)"
   ]
  },
  {
   "cell_type": "code",
   "execution_count": null,
   "metadata": {
    "collapsed": false
   },
   "outputs": [],
   "source": [
    "1+1"
   ]
  },
  {
   "cell_type": "code",
   "execution_count": null,
   "metadata": {
    "collapsed": true
   },
   "outputs": [],
   "source": []
  },
  {
   "cell_type": "code",
   "execution_count": null,
   "metadata": {
    "collapsed": true
   },
   "outputs": [],
   "source": []
  }
 ],
 "metadata": {
  "kernelspec": {
   "display_name": "Python 2",
   "language": "python",
   "name": "python2"
  },
  "language_info": {
   "codemirror_mode": {
    "name": "ipython",
    "version": 2
   },
   "file_extension": ".py",
   "mimetype": "text/x-python",
   "name": "python",
   "nbconvert_exporter": "python",
   "pygments_lexer": "ipython2",
   "version": "2.7.10"
  }
 },
 "nbformat": 4,
 "nbformat_minor": 0
}
