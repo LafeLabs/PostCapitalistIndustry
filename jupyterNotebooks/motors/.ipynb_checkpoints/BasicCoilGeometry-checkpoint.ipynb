{
 "cells": [
  {
   "cell_type": "code",
   "execution_count": 2,
   "metadata": {
    "collapsed": true
   },
   "outputs": [],
   "source": [
    "%matplotlib inline\n",
    "from pylab import *"
   ]
  },
  {
   "cell_type": "markdown",
   "metadata": {},
   "source": [
    "![image](coilCrossSection.png) \n",
    "\n",
    "\n",
    "$\\alpha \\in \\left[-\\frac{a}{2},+\\frac{a}{2}\\right]$\n",
    "\n",
    "$\\beta \\in \\left[-\\frac{b}{2},+\\frac{b}{2}\\right]$\n",
    "\n",
    "$a = nd$\n",
    "\n",
    "$b = md,$\n",
    "\n",
    "where d is the diameter of a wire, assuming that the insualtion thickness is negligible.  Since d is used for the copper conductance calculation in the next section, the accurate version of these equations is \n",
    "\n",
    "$a = n(d + 2t)$ and $b = m(d + 2t),$\n",
    "\n",
    "where t is the insulation thickness.  In most cases I will ignore that and use the above approximation that $\\frac{t}{d} \\ll 1$\n",
    "\n",
    "\n",
    "number of turns $ = N = mn$\n",
    "\n",
    "length = \n",
    "\n",
    "$$\\ell = m\\sum_{\\alpha = -\\frac{a}{2} }^{\\frac{a}{2}} 2\\pi(R + \\alpha)$$"
   ]
  },
  {
   "cell_type": "markdown",
   "metadata": {
    "collapsed": true
   },
   "source": [
    "$$\\frac{1}{a}\\int_{-\\frac{a}{2}}^{\\frac{a}{2}} (R + \\alpha)d\\alpha = R$$\n",
    "\n",
    "$$\\ell = 2\\pi Rmn = 2\\pi RN,$$\n",
    "\n",
    "where N is the number of total turns and R is the radius to the center of the coil.  This is in fact a obvious result: the total length is the number of turns times the average circumference $2\\pi R$.\n",
    "\n",
    "Now I need a FUNCTION to go between d and AWG, with appropriate rounding.\n",
    "\n",
    "\n"
   ]
  },
  {
   "cell_type": "markdown",
   "metadata": {},
   "source": [
    "From https://en.wikipedia.org/wiki/American_wire_gauge :\n",
    "\n",
    "$n = -39\\log_{92} \\left( \\frac{d_{n}}{0.005~\\mathrm{inch}} \\right)+36 = -39\\log_{92} \\left( \\frac{d_{n}}{0.127~\\mathrm{mm}} \\right)+36$\n"
   ]
  },
  {
   "cell_type": "code",
   "execution_count": 30,
   "metadata": {
    "collapsed": false
   },
   "outputs": [
    {
     "name": "stdout",
     "output_type": "stream",
     "text": [
      "24\n"
     ]
    }
   ],
   "source": [
    "d_mils = 20 #diameter in mils(thousanths of an inch)\n",
    "\n",
    "AWG = int(round(36 + -39.0*log(d_mils/5.0)/log(92)))\n",
    "\n",
    "print AWG"
   ]
  },
  {
   "cell_type": "code",
   "execution_count": 31,
   "metadata": {
    "collapsed": false
   },
   "outputs": [
    {
     "name": "stdout",
     "output_type": "stream",
     "text": [
      "24\n"
     ]
    }
   ],
   "source": [
    "d_mm = 0.51 #diameter in mils(thousanths of an inch)\n",
    "\n",
    "AWG = int(round(36 + -39.0*log(d_mm/0.127)/log(92)))\n",
    "\n",
    "print AWG"
   ]
  },
  {
   "cell_type": "markdown",
   "metadata": {},
   "source": [
    "$d_n = 0.005~\\mathrm{inch} \\times 92 ^ \\frac{36-n}{39} = 0.127~\\mathrm{mm} \\times 92 ^ \\frac{36-n}{39}$\n"
   ]
  },
  {
   "cell_type": "code",
   "execution_count": 40,
   "metadata": {
    "collapsed": false
   },
   "outputs": [
    {
     "name": "stdout",
     "output_type": "stream",
     "text": [
      "14.2\n"
     ]
    }
   ],
   "source": [
    "AWG = 27\n",
    "\n",
    "d_mils = round(5.0*92.0**((36.0-AWG)/39.0),1)\n",
    "\n",
    "print d_mils"
   ]
  },
  {
   "cell_type": "code",
   "execution_count": 41,
   "metadata": {
    "collapsed": false
   },
   "outputs": [
    {
     "name": "stdout",
     "output_type": "stream",
     "text": [
      "0.51\n"
     ]
    }
   ],
   "source": [
    "AWG = 24\n",
    "\n",
    "d_mm = round(0.127*92.0**((36.0-AWG)/39.0),2)\n",
    "\n",
    "print d_mm"
   ]
  },
  {
   "cell_type": "markdown",
   "metadata": {},
   "source": [
    "### First Use Case:\n",
    "\n",
    "I start with a desired resistance, find various choices to fill that.  For example, I'm starting with DC resistance at room temperature of 12 $\\Omega$ for one of the basic AC wall driven motors. The idea is to step down the 120 VAC with a 10:1 transformer(100 turns and 10 turns around a ferrite), filter it with a capacitor, and drive the coil drive circuit with that.  \n",
    "\n",
    "Now I will choose a potential AWG, starting with 24.  From $AWG =  24$ we get $\\mathrm{d_{mm}} = 0.51 \\mathrm{ \\ mm}$ for the diameter of the wire.  Radius is then $r = \\frac{d}{2} = 0.25 mm = 0.025 cm$, and so the area in cm is $A_{cm} = \\pi r^2$ "
   ]
  },
  {
   "cell_type": "code",
   "execution_count": 43,
   "metadata": {
    "collapsed": false
   },
   "outputs": [
    {
     "name": "stdout",
     "output_type": "stream",
     "text": [
      "0.002042820623\n"
     ]
    }
   ],
   "source": [
    "d_cm = d_mm/10.0\n",
    "r_cm = d_cm/2.0\n",
    "A_cm = pi*r_cm**2.0\n",
    "\n",
    "print A_cm"
   ]
  },
  {
   "cell_type": "markdown",
   "metadata": {},
   "source": [
    "Conductivity of wires is compared to the International Annealed Copper Standard (IACS), which is 5.8e7 Siemens/meter or 1.72 micro-Ohm cm, and this is for standard annealed copper wire at 20 degrees C.  \n",
    "\n",
    "$R = \\rho\\ell/A$, \n",
    "\n",
    "where I now have all distances in cm.  And I've introduced redundant notation here with R, but it should be clear from context.  Or I'll change the other one, the big radius, because resistance must always be capital R. \n",
    "\n",
    "Now suppose that the length is 500 cm.  \n"
   ]
  },
  {
   "cell_type": "code",
   "execution_count": 46,
   "metadata": {
    "collapsed": false
   },
   "outputs": [
    {
     "name": "stdout",
     "output_type": "stream",
     "text": [
      "4.20986546894\n"
     ]
    }
   ],
   "source": [
    "length = 5000 #cm, divide by 10 for meters\n",
    "rho = 1.72e-6\n",
    "R = rho*length/A_cm\n",
    "print R"
   ]
  },
  {
   "cell_type": "code",
   "execution_count": null,
   "metadata": {
    "collapsed": true
   },
   "outputs": [],
   "source": []
  }
 ],
 "metadata": {
  "kernelspec": {
   "display_name": "Python 2",
   "language": "python",
   "name": "python2"
  },
  "language_info": {
   "codemirror_mode": {
    "name": "ipython",
    "version": 2
   },
   "file_extension": ".py",
   "mimetype": "text/x-python",
   "name": "python",
   "nbconvert_exporter": "python",
   "pygments_lexer": "ipython2",
   "version": "2.7.10"
  }
 },
 "nbformat": 4,
 "nbformat_minor": 0
}
