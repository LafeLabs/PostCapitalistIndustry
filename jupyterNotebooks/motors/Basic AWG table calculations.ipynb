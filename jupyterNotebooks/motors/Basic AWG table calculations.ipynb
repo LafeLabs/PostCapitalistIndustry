{
 "cells": [
  {
   "cell_type": "code",
   "execution_count": 1,
   "metadata": {
    "collapsed": false
   },
   "outputs": [],
   "source": [
    "%matplotlib inline\n",
    "from pylab import *"
   ]
  },
  {
   "cell_type": "markdown",
   "metadata": {},
   "source": [
    "![image](coilCrossSection.png) \n",
    "\n",
    "\n",
    "$\\alpha \\in \\left[-\\frac{a}{2},+\\frac{a}{2}\\right]$\n",
    "\n",
    "$\\beta \\in \\left[-\\frac{b}{2},+\\frac{b}{2}\\right]$\n",
    "\n",
    "$a = nd$\n",
    "\n",
    "$b = md,$\n",
    "\n",
    "where d is the diameter of a wire, assuming that the insualtion thickness is negligible.  Since d is used for the copper conductance calculation in the next section, the accurate version of these equations is \n",
    "\n",
    "$a = n(d + 2t)$ and $b = m(d + 2t),$\n",
    "\n",
    "where t is the insulation thickness.  In most cases I will ignore that and use the above approximation that $\\frac{t}{d} \\ll 1$\n",
    "\n",
    "\n",
    "number of turns $ = N = mn$\n",
    "\n",
    "length = \n",
    "\n",
    "$$\\ell = m\\sum_{\\alpha = -\\frac{a}{2} }^{\\frac{a}{2}} 2\\pi(R + \\alpha)$$"
   ]
  },
  {
   "cell_type": "markdown",
   "metadata": {},
   "source": [
    "From https://en.wikipedia.org/wiki/American_wire_gauge :\n",
    "\n",
    "$n = -39\\log_{92} \\left( \\frac{d_{n}}{0.005~\\mathrm{inch}} \\right)+36 = -39\\log_{92} \\left( \\frac{d_{n}}{0.127~\\mathrm{mm}} \\right)+36$\n"
   ]
  },
  {
   "cell_type": "markdown",
   "metadata": {},
   "source": [
    "$d_n = 0.005~\\mathrm{inch} \\times 92 ^ \\frac{36-n}{39} = 0.127~\\mathrm{mm} \\times 92 ^ \\frac{36-n}{39}$\n"
   ]
  },
  {
   "cell_type": "markdown",
   "metadata": {},
   "source": [
    "Conductivity of wires is compared to the International Annealed Copper Standard (IACS), which is 5.8e7 Siemens/meter or 1.72 micro-Ohm cm, and this is for standard annealed copper wire at 20 degrees C.  \n",
    "\n",
    "$R = \\rho\\ell/A$, \n",
    "\n",
    "where I now have all distances in cm.  And I've introduced redundant notation here with R, but it should be clear from context.  Or I'll change the other one, the big radius, because resistance must always be capital R. \n",
    "\n",
    "Now suppose that the length is 500 cm.  \n"
   ]
  },
  {
   "cell_type": "markdown",
   "metadata": {},
   "source": [
    "These numbers need to be checked and re-checked, and graphs made with graphical \"calculators\".  Also mass and volume should be calculated, and optimization rules of thumb developed.  Also the number of turns. "
   ]
  },
  {
   "cell_type": "markdown",
   "metadata": {
    "collapsed": false
   },
   "source": [
    "$\\Omega/m \\left(\\frac{1 m}{100 cm}\\right)\\left(\\frac{2.54 cm}{1 in}\\right)\\left(\\frac{12 in}{1 ft}\\right)$ "
   ]
  },
  {
   "cell_type": "code",
   "execution_count": 2,
   "metadata": {
    "collapsed": false
   },
   "outputs": [
    {
     "name": "stdout",
     "output_type": "stream",
     "text": [
      "AWG             |  Diameter [mm]  |  Diameter [mils]  |  Area [mm^2]  |  R [mOhms/m]  |  R [mOhms/ft]\n",
      "-----------  |  -----------  |  -----------  |  -----------  |  -----------\n",
      "0           |  8.25       |  324.9       |  53.456 | 0.3 | 0.1\n",
      "1           |  7.35       |  289.3       |  42.429 | 0.4 | 0.1\n",
      "2           |  6.54       |  257.6       |  33.593 | 0.5 | 0.2\n",
      "3           |  5.83       |  229.4       |  26.695 | 0.6 | 0.2\n",
      "4           |  5.19       |  204.3       |  21.156 | 0.8 | 0.2\n",
      "5           |  4.62       |  181.9       |  16.764 | 1.0 | 0.3\n",
      "6           |  4.12       |  162.0       |  13.332 | 1.3 | 0.4\n",
      "7           |  3.66       |  144.3       |  10.521 | 1.6 | 0.5\n",
      "8           |  3.26       |  128.5       |  8.347 | 2.1 | 0.6\n",
      "9           |  2.91       |  114.4       |  6.651 | 2.6 | 0.8\n",
      "10           |  2.59       |  101.9       |  5.269 | 3.3 | 1.0\n",
      "11           |  2.3       |  90.7       |  4.155 | 4.1 | 1.2\n",
      "12           |  2.05       |  80.8       |  3.301 | 5.2 | 1.6\n",
      "13           |  1.83       |  72.0       |  2.63 | 6.5 | 2.0\n",
      "14           |  1.63       |  64.1       |  2.087 | 8.2 | 2.5\n",
      "15           |  1.45       |  57.1       |  1.651 | 10.4 | 3.2\n",
      "16           |  1.29       |  50.8       |  1.307 | 13.2 | 4.0\n",
      "17           |  1.15       |  45.3       |  1.039 | 16.6 | 5.1\n",
      "18           |  1.02       |  40.3       |  0.817 | 21.1 | 6.4\n",
      "19           |  0.91       |  35.9       |  0.65 | 26.5 | 8.1\n",
      "20           |  0.81       |  32.0       |  0.515 | 33.4 | 10.2\n",
      "21           |  0.72       |  28.5       |  0.407 | 42.3 | 12.9\n",
      "22           |  0.64       |  25.3       |  0.322 | 53.4 | 16.3\n",
      "23           |  0.57       |  22.6       |  0.255 | 67.5 | 20.6\n",
      "24           |  0.51       |  20.1       |  0.204 | 84.3 | 25.7\n",
      "25           |  0.45       |  17.9       |  0.159 | 108.2 | 33.0\n",
      "26           |  0.4       |  15.9       |  0.126 | 136.5 | 41.6\n",
      "27           |  0.36       |  14.2       |  0.102 | 168.6 | 51.4\n",
      "28           |  0.32       |  12.6       |  0.08 | 215.0 | 65.5\n",
      "29           |  0.29       |  11.3       |  0.066 | 260.6 | 79.4\n",
      "30           |  0.25       |  10.0       |  0.049 | 351.0 | 107.0\n",
      "31           |  0.23       |  8.9       |  0.042 | 409.5 | 124.8\n",
      "32           |  0.2       |  8.0       |  0.031 | 554.8 | 169.1\n",
      "33           |  0.18       |  7.1       |  0.025 | 688.0 | 209.7\n",
      "34           |  0.16       |  6.3       |  0.02 | 860.0 | 262.1\n",
      "35           |  0.14       |  5.6       |  0.015 | 1146.7 | 349.5\n",
      "36           |  0.13       |  5.0       |  0.013 | 1323.1 | 403.3\n"
     ]
    }
   ],
   "source": [
    "print(\"AWG\"), \n",
    "print(\"            | \"),\n",
    "print(\"Diameter [mm]\"),\n",
    "print(\" | \"),\n",
    "print(\"Diameter [mils]\"),\n",
    "print(\" | \"),\n",
    "print(\"Area [mm^2]\"),\n",
    "print(\" | \"),\n",
    "print(\"R [mOhms/m]\"),\n",
    "print(\" | \"),\n",
    "print(\"R [mOhms/ft]\")\n",
    "\n",
    "print(\"-----------\"), \n",
    "print(\" | \"),\n",
    "print(\"-----------\"), \n",
    "print(\" | \"),\n",
    "print(\"-----------\"), \n",
    "print(\" | \"),\n",
    "print(\"-----------\"), \n",
    "print(\" | \"),\n",
    "print(\"-----------\")\n",
    "\n",
    "\n",
    "\n",
    "for AWG in range(37):\n",
    "    print AWG, \n",
    "    print(\"          | \"),\n",
    "    d_mm = round(0.127*92.0**((36.0-AWG)/39.0),2)\n",
    "    print d_mm,\n",
    "    d_mils = round(5.0*92.0**((36.0-AWG)/39.0),1)\n",
    "    print(\"      | \"),\n",
    "    print d_mils,\n",
    "    print(\"      | \"),\n",
    "    A = pi*(d_mm/2)**2\n",
    "    A = round(A,3)\n",
    "    print A,\n",
    "    A_cm = A/100 # convert from mm^2 to cm^2\n",
    "    rho = 1.72e-6\n",
    "    R_m = 1000*100*rho/A_cm  #R per unit meter\n",
    "    R_m = round(R_m,1)\n",
    "    print(\"|\"),\n",
    "    print R_m,\n",
    "    print(\"|\"),\n",
    "    R_ft = R_m*2.54*12/100\n",
    "    R_ft = round(R_ft,1)\n",
    "    print R_ft"
   ]
  },
  {
   "cell_type": "code",
   "execution_count": null,
   "metadata": {
    "collapsed": true
   },
   "outputs": [],
   "source": []
  }
 ],
 "metadata": {
  "kernelspec": {
   "display_name": "Python 2",
   "language": "python",
   "name": "python2"
  },
  "language_info": {
   "codemirror_mode": {
    "name": "ipython",
    "version": 2
   },
   "file_extension": ".py",
   "mimetype": "text/x-python",
   "name": "python",
   "nbconvert_exporter": "python",
   "pygments_lexer": "ipython2",
   "version": "2.7.10"
  }
 },
 "nbformat": 4,
 "nbformat_minor": 0
}
