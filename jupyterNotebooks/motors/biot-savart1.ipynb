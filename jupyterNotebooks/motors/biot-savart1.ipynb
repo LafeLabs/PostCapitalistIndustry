{
 "cells": [
  {
   "cell_type": "code",
   "execution_count": 1,
   "metadata": {
    "collapsed": true
   },
   "outputs": [],
   "source": [
    "%matplotlib inline\n",
    "from pylab import *"
   ]
  },
  {
   "cell_type": "markdown",
   "metadata": {},
   "source": [
    "![vortex](Vortex_filament.png)\n",
    "\n",
    "\n",
    "![](equations_basic_coil.png)\n",
    "\n",
    "![image](coilCrossSection.png) \n",
    "\n"
   ]
  },
  {
   "cell_type": "markdown",
   "metadata": {},
   "source": [
    "#### The following is copied directly from Wikipedia:\n",
    "\n",
    "https://en.wikipedia.org/wiki/Biot–Savart_law\n",
    "\n",
    "Biot-Savart Law:\n",
    "\n",
    "$ \\mathbf{B}(\\mathbf{r}) = \\frac{\\mu_0}{4\\pi} \\int_C \\frac{I d\\mathbf l\\times\\mathbf{r'}}{|\\mathbf{r'}|^3}$\n",
    "\n",
    "where $d\\mathbf{l}$ is a vector whose magnitude is the length of the differential element of the wire in the direction of conventional current, $\\mathbf{r'} = \\mathbf{r} - \\mathbf{l}$, the full displacement vector from the wire element $(\\mathbf{l})$ to the point at which the field is being computed $(\\mathbf{r})$, and μ0 is the magnetic constant. Alternatively:\n",
    "\n",
    "$ \\mathbf{B}(\\mathbf{r}) = \\frac{\\mu_0}{4\\pi}\\int_C \\frac{I d\\mathbf l\\times\\mathbf{\\hat r'}}{|\\mathbf{r'}|^2}$\n",
    "\n",
    "where $\\mathbf{\\hat r'}$ is the unit vector of $\\mathbf{r'}$. The symbols in boldface denote vector quantities.\n",
    "\n"
   ]
  },
  {
   "cell_type": "markdown",
   "metadata": {},
   "source": [
    "$\\mathbf{r}_{coil} = (R + \\alpha)\\cos{\\theta} \\mathbf{\\hat{x}} + \n",
    "(R + \\alpha)\\sin{\\theta} \\mathbf{\\hat{y}} +\n",
    "\\beta\\mathbf{\\hat{z}}\n",
    "$\n",
    "\n",
    "$\\mathbf{r} = x\\mathbf{\\hat{x}} + y\\mathbf{\\hat{y}} + z\\mathbf{\\hat{z}}$\n",
    "\n",
    "Let's keep the point we measure at in the xz plane, because rotational symmetry allows us to do that.  Thus y=0 always, and \n",
    "\n",
    "$\\mathbf{r} = x\\mathbf{\\hat{x}} + z\\mathbf{\\hat{z}}$\n",
    "\n",
    "\n",
    "$\\mathbf{r'} = \\mathbf{r} - \\mathbf{r}_{coil} = \n",
    "[x - (R + \\alpha\\cos{\\theta})]\\mathbf{\\hat{x}} +\n",
    "[y - (R + \\alpha\\sin{\\theta})]\\mathbf{\\hat{y}} +\n",
    "[z - \\beta]\\mathbf{\\hat{z}}\n",
    "$\n",
    "\n",
    "$\n",
    "=(x - R - \\alpha\\cos{\\theta}))\\mathbf{\\hat{x}} +\n",
    "(y - R - \\alpha\\sin{\\theta}))\\mathbf{\\hat{y}} +\n",
    "(z - \\beta)\\mathbf{\\hat{z}}\n",
    "$\n",
    "\n",
    "$\n",
    "=(x - R - \\alpha\\cos{\\theta}))\\mathbf{\\hat{x}} +\n",
    "( - R - \\alpha\\sin{\\theta}))\\mathbf{\\hat{y}} +\n",
    "(z - \\beta)\\mathbf{\\hat{z}}\n",
    "$"
   ]
  },
  {
   "cell_type": "markdown",
   "metadata": {},
   "source": [
    "$\\mathbf{\\hat{\\rho}} = \\cos{\\theta}\\mathbf{\\hat{x}} + \\sin{\\theta}\\mathbf{\\hat{y}}$\n",
    "\n",
    "$\\mathbf{\\hat{i}} = -\\sin{\\theta}\\mathbf{\\hat{x}} + \\cos{\\theta}\\mathbf{\\hat{y}} = \\hat{\\mathbf{\\theta}}$"
   ]
  },
  {
   "cell_type": "markdown",
   "metadata": {
    "collapsed": true
   },
   "source": [
    "I now move everything over to cylindrical polar coordinates.  So now the variables are $\\rho$, $\\theta$ and z, where $\\rho$ is the distance from the z axis, and $\\theta$ and z are as above.  \n",
    "\n",
    "Again, our unit vectors are now:\n",
    "\n",
    "$\\hat{\\mathbf{z}}$,\n",
    "\n",
    "$\\mathbf{\\hat{\\rho}} = \\cos{\\theta}\\mathbf{\\hat{x}} + \\sin{\\theta}\\mathbf{\\hat{y}}$, \n",
    "\n",
    "and \n",
    "\n",
    "$\\hat{\\mathbf{\\theta}} = -\\sin{\\theta}\\mathbf{\\hat{x}} + \\cos{\\theta}\\mathbf{\\hat{y}}$.\n",
    "\n",
    "Note that $(\\mathbf{\\hat{\\rho}},\\hat{\\mathbf{\\theta}},\\hat{\\mathbf{z}})$ form a right handed basis. \n"
   ]
  },
  {
   "cell_type": "markdown",
   "metadata": {},
   "source": [
    "$$\\mathbf{r}_{coil} = (R + \\alpha)\\mathbf{\\hat{\\rho}} + \\beta\\mathbf{\\hat{z}}$$\n",
    "\n",
    "$$\\mathbf{r} = \\rho\\mathbf{\\hat{\\rho}} + z\\mathbf{\\hat{z}}$$\n",
    "\n",
    "for r, the position of the magnetometer, it's ok to just set $\\theta$ to zero because of symmetry.  However we must integrate around the loop, so $\\mathbf{r}_{coil}$ must have a component along the  $\\mathbf{\\hat{\\theta}}$ direction, right?  I don't really know, I'm a bit lost. Need more pictures.\n",
    "\n"
   ]
  },
  {
   "cell_type": "markdown",
   "metadata": {},
   "source": [
    "$$\n",
    "\\mathbf{r'} = \\mathbf{r} - \\mathbf{r}_{coil} = (\\rho - R - \\alpha)\\hat{\\mathbf{\\rho}} + (z - \\beta)\\mathbf{\\hat{z}}\n",
    "$$\n",
    "\n",
    "\n",
    "Polar may be more trouble than it's worth to set up the integral.  \n",
    "\n",
    "\n",
    "$ \\mathbf{B}(\\mathbf{r}) = \\frac{\\mu_0}{4\\pi} \\int_C \\frac{I d\\mathbf l\\times\\mathbf{r'}}{|\\mathbf{r'}|^3}$\n",
    "\n"
   ]
  },
  {
   "cell_type": "markdown",
   "metadata": {},
   "source": [
    "\n",
    "$ \\mathbf{B}(\\mathbf{r}) = \\frac{\\mu_0}{4\\pi} \\int_C \\frac{I d\\mathbf l\\times\\mathbf{r'}}{|\\mathbf{r'}|^3}$\n",
    "\n",
    "$=\\frac{I\\mu_0}{4\\pi}\\int_C \\frac{ d\\mathbf \\theta\\times\\mathbf{r'}}{|\\mathbf{r'}|^3}$\n"
   ]
  },
  {
   "cell_type": "markdown",
   "metadata": {},
   "source": [
    "$r' = (x - R - \\alpha\\cos{\\theta}))\\mathbf{\\hat{x}} +\n",
    "( - R - \\alpha\\sin{\\theta}))\\mathbf{\\hat{y}} +\n",
    "(z - \\beta)\\mathbf{\\hat{z}}$"
   ]
  },
  {
   "cell_type": "code",
   "execution_count": null,
   "metadata": {
    "collapsed": true
   },
   "outputs": [],
   "source": []
  }
 ],
 "metadata": {
  "kernelspec": {
   "display_name": "Python 2",
   "language": "python",
   "name": "python2"
  },
  "language_info": {
   "codemirror_mode": {
    "name": "ipython",
    "version": 2
   },
   "file_extension": ".py",
   "mimetype": "text/x-python",
   "name": "python",
   "nbconvert_exporter": "python",
   "pygments_lexer": "ipython2",
   "version": "2.7.10"
  }
 },
 "nbformat": 4,
 "nbformat_minor": 0
}
