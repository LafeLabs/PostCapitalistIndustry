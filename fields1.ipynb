{
 "cells": [
  {
   "cell_type": "markdown",
   "metadata": {},
   "source": [
    "# Fields\n",
    "\n",
    "Here I will discuss how to understand the technology around us in terms of fields in real units.  Volts, amps, newtons, pounds, etc.  Conversions, simple units, refernce to physics but not relying on it.\n"
   ]
  },
  {
   "cell_type": "markdown",
   "metadata": {},
   "source": [
    "# All Our Physics Is Crap \n",
    "\n",
    "All the physics I learned in school is crap.  Calculations.  Concepts, abstractions. Essentially applied math. And why?  Well probably many reasons, but in the end we don’t get the means of production and who cares the reason.  It’s bullshit.\n",
    "\n",
    "What are the means of production?  Applying and measuring voltage, current, force, velocity.  Storing physical quantities and moving them around.  Imaging.  Making atomic beams and directing them around.\n",
    "\n",
    "All this supposedly needs lots of fancy equipment, but todays equipment with a few decades ago physics is readily available for next to nothing, or really nothing for the really free technology of the trash wizard stick.\n",
    "\n",
    "I look back now on what I learned in undergrad especially with scorn.  Lab was totally separate from theory and also separate from the world around us.  I want to not just do lab experiments, but to interact with the world!  I want to look at ordinary household objects with a tiny electron microscope!  I want to make simple ion beams from materials you can find in a junk heap. I want to make high voltage circuits that do interesting things with high voltages generated mechanically with oscillators made from sticks and rocks.  I want to *measure* the ideal gas law before learning about kinetic theory! I’m not saying I don’t want to know kinetic theory. But what I am saying is that this is all backwards.\n",
    "\n",
    "Instead of starting with math, then kinetic theory, then applications then working with exotic UHV systems with expensive turbo molecular pump.  And as an aside, you learn to deal with rough pumps.  That’s just a chore along the way to feeding the Great Machine that we’re all supposed to worship: the endlessly expanding Machine that represents the capitalist sphere of the new and expensive.  The opposite path would start with experimenting with air at atmospheric pressure, then working with air plumbing and pumps, then learning about pressure physics through pump craft.  From there, more exotic systems are built and learned about. Along the way, the student is constantly recording and displaying data, learning how to analyze it along the way.  So the analytic techniques you learn in school now would still be taught–just not as some isolated sterile applied math subject.  Rather, they’re a tool that the student caries with them as they survey the real world they live in.\n",
    "\n",
    "The difference is one of training methods, but it has implications for how the student drills even on the theory side.  Right now classes are structured not around the central problems of each subject(like the SHO for quantum mechanics and classical mechanics), but rather around learning how to as broadly as possible apply those to weird special cases.  But this is not how our lives work.  In life, we mostly deal with those problems–that’s why they’re so damn canonical.  Rather than learning 15 different obscure tricks for calculating electric field analytically from complicated and unrealistic shapes, a student learns to get as quickly as possible to something that is really useful, which is more likely to be approximating correctly to the right canonical case.  As for special cases, the tricks the student should be accumulating are on the practical side.  Once you learn about how to solve the quantum mechanical simple harmonic oscillator you don’t work dozens of problems doing much harder theoretical versions.  Instead you work to find more systems that behave that way around you.  You find quantum objects in your trash wizard stick lab that are described by the SHO hamiltonian, mess around with them, measure them, and graph them out in your lab notebook software.\n",
    "Then as you get more advanced still you learn to combine all that into something useful: gathering trash from your environment, analyzing its full physical composition, removing atoms and molecules as needed, creating new and useful other technology, all using your quantum mechanical harmonic oscillator.\n",
    "\n",
    "To hell with the lab.  To hell with the classroom. And to hell with companies.  The trash wizard is truly free to investigate the physical world anytime anywhere.\n"
   ]
  },
  {
   "cell_type": "markdown",
   "metadata": {},
   "source": [
    "# BFC's(Big Fucking Capacitors) \n",
    "\n",
    "One of the things I’m committing to with this blog is rambling on about physics and engineering topics about which I’m fairly ignorant.  That’s sort of my thing here.   To that end, I’m going to talk about high voltage capacitors for energy storage.\n",
    "\n",
    "Here’s why I am attracted to them: they can be found in junk heaps the world over in old TVs and monitors as well as other electronics, and they can charge up FAST.   So if you want ubiquitous energy storage over short time of the kind you’d use in the squats and communes of the future, not the kind Elon Musk builds for you, this is really ideal.  Now hold on, you say, the energy density of these things is low!  And how much energy can you really store in a 1000 uF capacitor?  Ok, sure, but energy is (1/2) C V^2, so voltage matters more than capacitance.  And if you built your mechanical energy harvester as some kind of crude high voltage generator( more on this later), you can get several kilovolts.  So, say it’s 3300 V or so, that squared is about 10 million, multiplied by 1/1000 of a Farad(say it’s 2000 uF, divide that by 2), you’ve got 10 kJ.  For comparison a AA battery with 1300 mA-h, which is what my rechargeables have at 1.5 V is 1.5V*1.3A*3600 s = about 7 kJ, so it’s comparable to a AA.  Except those AA’s I have take overnight to charge and this can charge off of some pretty random mechanical motion over just a minute or two.  Embed it in tons of silicone for safety and build simple step down circuits and you’ve got something way better to the trash wizard than any battery.\n",
    "\n",
    "Also, for motor applications, I think the HV might work in some cases.  A sort of railgun style drive applied periodically could be useful for certain resonant motors.  And electrostatic motors can be useful for working with some of the micro/nano fluidics or NEMS/MEMS that go along with the vibrational engines.\n"
   ]
  },
  {
   "cell_type": "markdown",
   "metadata": {},
   "source": [
    "# Being good at a thing \n",
    "\n",
    "I’ve ranted about this on here before I think, but I’m pretty obsessed with the idea that most of our education stresses knowing many facts over mastery of the core facts way too much.  This came up in judo today as we were talking about how our BJJ school differs from some other schools.  One blue belt was talking about how when he came here he found it odd that the upper belts didn’t do anything more advanced than a blue or white belt, they just did simple stuff and were able to make it work to consistently win with it.  And we got to talking about top athletes in martial arts, and how common it is for them to have just one dominant move that they do over and over which is unstoppable.\n",
    "\n",
    "I’ll admit my feelings on this are partly driven by aesthetics as well as my own learning style, but I think that it’s almost always better to endlessly work on the core principles, possibly discarding certain cores for other ones as time goes on than to add up a larger and larger store of techniques or skills.\n",
    "\n",
    "This feeds back to my central thesis in all this for technology: that our technology has gone in very wrong directions based on bad choices.  How this philosophy of learning applies to technology is in how transparent technology is or isn’t.  Technologies I have a lot of respect for, like vice grips, bulldozers, and duct tape, can be learned by a young child easily but still take a lifetime to master the use of.  Conversely, technologies centered on computer software, the people who self identify as “the tech industry”, involve unbelievably pointless memorization of endless detailed facts which will all be obsolete in 6 months.  All this makes perfect sense if you believe, as I do, that the main purpose of “IT” is to provide secure high paying jobs for the IT cartel.  If, however, you want to build technology that people can actually master, it’s hard to imagine a much worse situation.\n",
    "\n",
    "I would also argue that non-free technology can never truly allow a person to become a master.  Ultimately the intellectual “property” is always owned by a corporation, answerable to shareholders, which has a legal power over the technology that no individual user can overcome.\n",
    "\n",
    "And, again, with science, I think things are all totally off the rails.  The science cartel, like the IT cartel, has a long term strategy for full employment: only study things that are “novel”, meaning they require the resources of a  large institution to access.  Our lives are filled with simple harmonic oscillators, parametric coupling, capacitors, inductors, and simple atom-light interactions.  But do we spend a lifetime in physics mastering these things?  No.  We move as fast as possible to the “forefront” of useless systems which can only be made with huge resources in order to move our professional development along as fast as possible.\n",
    "\n",
    "I argue against the complex distractions that exist in ALL these systems.  Grapplers should spend a life time learning to sweep and pass guard at a high level, technologists should spend a lifetime building the perfect tool that even a child can pick up and learn, and scientists should become masters characterizing the physical world we live in.\n"
   ]
  },
  {
   "cell_type": "markdown",
   "metadata": {},
   "source": [
    "# College is Bullshit \n",
    "\n",
    "Well, the physics major.  Ok, not total bullshit but bullshit in its structure.  I would say looking back that 80% of what I learned was non useful and 80% of what I wish I’d learned was skipped.\n",
    "\n",
    "What was useless?  Most field solving problems.  We have a new thing now, called a “computer” that makes this obsolete.  While we had to calculate the analytic form of the E or B field of weird shapes ad nauseum, we almost never had to compute in real units something you might actually find in the world.  What is the capacitance of a human hand?  Of a tinfoil ball?  What is the inductance of a set of high voltage power lines over 1 mile?  What is the impedance of that transmission line?  No fucking clue.\n",
    "\n",
    "Also useless, again with too much calculation: weird boundary value problems in finding wave functions.  Hell, most of that wave function crap is useless most of the time.  Instead of learning like you’re in a high school algebra class just choosing random cases, with tunneling as a special case, that should have been front and center.  I want to see quantum tunneling actually carried out using aluminum foil.  I want to see a tungsten pointy thing in a vacuum under high voltage emit electrons and learn about Fowler Nordheim tunneling.  And let’s not pretend the atom is some weird special case and build up to it.  Atomic spectroscopy and lasers should drive everything in QM, unless it’s about superconductor stuff.\n",
    "\n",
    "And don’t even get me fucking started about thermodynamics.  Jesus.  Learning that as a endless sequence of bizarre functions you’ll never care about, weird special cases, meaningless thought experiments!  I demand steam engines.  Steam is where all that work came from, and it’s insane to decontextualize it.  My guess is that more than 1000x as much steam is used now as the year Queen Victoria died.  Probably more like 1000000x or more.  Steam is still important, so why is it removed?  Useless.\n",
    "\n",
    "And stat mech.  Again with the endless cute little math riddles and nothing fucking useful.  Why don’t the statistics you learn in school involve real data?  Or computers?  I want students downloading mass quantities of data from weather records, financial records, astronomical data, etc etc, and crunching the numbers on their own computers with their own tools.  We claim that one reason we want young people to learn this shit is so that things like climate change can be dealt with more rationally by our society.  But if that’s true, ask how many undergrads know where to get the data from NOAA and then crunch them to reliably reproduce the “hockey stick”?  Probably very few, certainly not me at that time.  Stat mech is a fucking weapon/tool.  You can go bonkers with it, really grab the bull by the horns.  But did we?  No.  Useless bullshit.\n",
    "\n",
    "Classical mechanics.  Bollocks. Bullshit. Crap.  So much detail, so many hard math problems, but how much practical mechanics?  And of course zero computer based work.  Resonance is covered but not with the obsession I think it deserves.  I want pipe organs, slinkies, bells, etc.  And real materials properties taken into account.  Let’s talk about Young’s modulus in real units and learn to use it for simple calculations.  But noooooooooooo. I’m not even sure we learned about Young’s modulus. Just a bunch of fancy tensor bullshit.\n",
    "Physics education should be more like judo.  You learn the techniques and you apply them, and you keep practicing until you can apply them well.  And by “techniques” I mean using the human mind to interact with the physical world–building things and hacking existing machines to do new things.\n",
    "\n",
    "What would a black belt in physics be able to do?\n",
    "\n",
    "•\tbuild a motor from scratch, convert energy from any form to any other, store it, transport it by many means\n",
    "\n",
    "•\tbuild a pump from the motor to create vacuum and high pressure\n",
    "\n",
    "•\textract gasses from household goods and the environment to put into low pressure home-made tubes, to make atomic \n",
    "vapor cells\n",
    "\n",
    "•\trip apart old electronics to get working and characterized lasers out and use them to carry out atomic physics on \n",
    "the vapor cells\n",
    "\n",
    "•\tbuild a steam engine and characterize the properties of steam\n",
    "\n",
    "•\tuse a standard modern laptop or equivalent to grab data from anywhere, crunch it quickly and draw conclusions\n",
    "\n",
    "•\tusing free software, carry out finite element field calculations to estimate values of EM properties\n",
    "\n",
    "•\tbuild an electron microscope from scratch out of trash\n",
    "\n",
    "•\tbuild quantum tunneling experiments from scratch out of trash, measure with a phone, characterize the quantum \n",
    "properties\n",
    "\n",
    "•\tbe able to quickly calculate and *measure* common physical quantities around you: pressure, force, frequency, impedance, etc. etc.\n",
    "\n",
    "•\tbe able to construct a computer from scratch out of NAND gates, and build a basic NAND from found materials(trash)\n",
    "\n",
    "•\tmaster the art of lighting: generate it, direct it, harness it, measure it\n",
    "\n",
    "•\tlearned basic chemistry\n",
    "\n",
    "•\tfabrication skills using machine tools, 3d printers, injection  molding, laser cutting, etc.\n",
    "\n",
    "•\tgeneral electronics design and construction required to make a physical bare bones product\n",
    "\n",
    "This stuff would be taught directly in a hands on environment based on a long series of small projects interspersed with some large ones.  It takes as long or as short as it takes.  There will be many sub styles, and lineage will matter(who you primarily learned from directly).  Campuses will not be needed, although some space will. the only money that need change hands in the teaching, as with judo, is that required to keep some space available and some basic parts bought.  Books will be free online or from a library in house.  As with judo, a black belt is not the end but the beginning of learning and contributing to the dojo, and graduates/black belts will generally stay around for life, both teaching and learning and building the school.   Everything on computers will happen with Jupyter which is the best scientific educational software ever written.\n",
    "\n",
    "Students will build up hardware as they progress which they will personalize and keep, like the wands in Harry Potter.  So the “trash wizard” as they might be called, will be able to use their gear that they can carry with them to interact with the physical world directly and usefully at any time and place and for any application.\n"
   ]
  },
  {
   "cell_type": "markdown",
   "metadata": {},
   "source": [
    "# Demos and the Narrowing of Focus \n",
    "\n",
    "I want to have demos available concurrently with releasing the initial Trash Wizard book.  But what, exactly, has to be built for that?\n",
    "\n",
    "Certainly, as said yesterday, a first demo is the coil winding machine.\n",
    "\n",
    "But I think another even more basic demo is the small(about 1/4 inch diameter) cylindrical magnets on a strip of folded duct tape, which can be moved around to opposite alignments along a main axis of a drive coil.  The duct tape is meant to be floppy but not very stretchy, and can be taped to anything.  This demo is a fundamental element to both pumps and propulsion.  I could imagine this being a pushing element that goes at the tip of a rod among many radiating from a center, in a ball, that rolls.  This is the more rigid version of the tentacle ball robot.  I think it could be done with just six rods, with one drive coils per rod, so only six coils and six magnets. Accelerometers and pickup coils can combine to control the whole thing as it bounces, flops and rolls around.  These can be made for next to nothing out of trash.  They can also all be programmed to herd together, but not run on top of each other, much like sheep, and to all have a herd sense of where they want to go, again like sheep.  The Trash wizard stick then acts like a shepherds crook: a generic tool used by the trash wizard to herd(rumble) rumbles of robots.  This is important in the long run for gathering materials and many other applications, but in the short run it is great for publicity and fun/art.  Another application is moving data from one place to another, and networking.  Routers can be in all the robots, making the network of robots cover space to create huge ad hoc networks.\n",
    "\n",
    "The above paragraph again loses focus, however. The robot demos are very important for publicity but for funding nothing beats pumps.  A reversible pump built into silicone for lab-on-chip biological and chemical applications is, I think, the most fundable of the various choices in the short term.  That can be scaled up for cooling water pumping and maybe bilge pumps.\n",
    "\n",
    "Possible grant proposals:\n",
    "\n",
    "•\tWater pump from trash for free technology in developing world, funded by development NGOs like Gates foundation\n",
    "\n",
    "•\tmicrofluidic reversible pump for lab on chip applications using PE motor\n",
    "\n",
    "•\tRobot rumble based on free motors used for clearing mine fields in developing countries from trash.  Could get \n",
    "funded by any military or aid agency, private personal donations\n",
    "\n",
    "•\tPumps for ultra-high reliability water removal, from bilges and sumps, could be a crowd funded product, \n",
    "“commercial product”, funded by Navy or Marines\n",
    "\n",
    "•\tIntegrated vacuum pumps for micro vacuum spaces for gas discharge applications, atomic vapor cell applications. \n",
    "Demo includes simple pressure cell showing rough vacuum, and a hydrogen arc discharge cell that uses a built in high \n",
    "voltage generator to get the voltage and a electrolysis machine to get hydrogen out from water.  Funding from all \n",
    "branches of all agencies that do atomic physics(e.g. atomic clocks etc).\n",
    "\n",
    "•\tintegrated fluid pumps in silicone for pumps in soft robotics–collaboration with soft robotics experts, with their funding streams\n",
    "\n",
    "•\tRefrigeration using vacuum pumped water.  Funding sources for really-free technology that does cooling can be just \n",
    "about all of them: non profits that promote development, all the major military agencies, etc.  Access to refrigeration for free that can be scaled up also for free can be a life saver for millions of people across the globe.\n",
    " \n",
    "So it’s clear that most of the next task should be focusing on vibrators way above resonance, and integrating them into silicone fabrication for pumps. If that technology becomes robust and buildable out of trash, it can be the core of everything in terms of getting funding to scale up the project and pulling more and more people into the system.\n",
    "This means the next two priorities are the v6 of the control board and getting some nice driven-way-above-resonance demos of magnets of floppy things.\n"
   ]
  },
  {
   "cell_type": "markdown",
   "metadata": {},
   "source": [
    "# Emergent Phenomena \n",
    "\n",
    "As much as I realize “emergent” is a word that is abused by idiots, I love this concept for all its flaws.   I think that a huge danger of our reductionist way of doing science is the tendency to overlook the patterns that emerge in complex phenomena that cannot be found by looking at the parts individually.\n",
    "\n",
    "This is something I think about very often, but have been thinking about a lot recently in light of the book “Plutopia” by Kate Brown, which I’m still in the middle of reading.  There’s a lot of stuff in there about nuclear safety and history, accidents etc.  But the stuff that really stands out to me is the comparisons just how similar the US and USSR were in some ways in regards to the social structures the two systems created around plutonium production.  Both sides furiously studied each other, each copying the other partly out of the usual cold war paranoia of the time.  But there is, I believe, something else at work.\n",
    "\n",
    "I think part of what I’m seeing in the book is how the bad decisions of management(everything about long term biological effects and a lot of safety issues) as well as some good decisions of management(way more creature comforts than the average Soviet citizen and better public infrastructure for the average American citizen)  were created not by the systems or the people involved but by an underlying essence of plutonium production as a technology.  Certain technologies inspire certain cultural behaviors. Perhaps this is obvious.  But if that really is obviously true, it means that the choice between, say, building vast numbers of plutonium bombs or simply doing something else affects more than just whether you have the bombs or not.  It has a rippling effect to the whole rest of society that has more to do with the structure of the people around the technology than what the technology itself does.\n",
    "\n",
    "In case it’s not obvious, I am personally against all plutonium production, and indeed almost all nuclear technology.  This is partly because of my personal experience with plutonium at my old job.  To make a long story short, someone(not me!) spilled a small amount of plutonium, no one was hurt, but management behaved almost comically badly at every level throughout the process. After seeing that whole shit storm go down I’ve watched things like the Fukushima incident and read accounts like this one and what I see is that middle management in different times and places and political systems behave remarkably similarly when faced with a nuclear accident of this kind.  I believe that this means the problem is never fixable by shuffling management around, adding training and procedures etc.  It’s fixed by not doing things where they only don’t kill people if human nature is magically changed.  I know a lot of people will say some shit about how you need nuclear to generate enough energy blah blah blah.  Well, fuck off.  If your plan for the future of the human race needs that much energy and you can’t find it another way, your plan sucks.\n"
   ]
  },
  {
   "cell_type": "markdown",
   "metadata": {},
   "source": [
    "# High Voltage DC electrostatic motors \n",
    "\n",
    "Water has a HUGE dielectric constant.  But if it has junk in it it conducts electricity. So with distilled pure water constantly available, it may be desirable to do mechanical work immersed in clean distilled water, so that the force of the various electrostatic motors is multiplied up by this dielectric constant.  Of course the drag of water is huge compared to air and vacuum(in this case just mechanical losses of the moving piece of material), so that can be an issue based on speed.  It’s a tradeoff.  If you want really fast things to happen you need to have no fluids around, but if you want more force slower, you want to be immersed in water for the tiger force.  Again, it’s the concept of mechanical impedance, and water immersion is the choice for high impedance while vacuum and gas are for low impedance.  Development of this technology should happen in parallel in vacuum, air, and distilled water(and maybe some non distilled water, where current might be useful).\n",
    " \n",
    "Also electrochemistry is useful.  Electricity combined with fluids and various metal sources can be used to move metal atoms around from one place to another.  This will be a fantastic way to grab hard to get atoms from a submerged junk car.  Again, these techniques reward patience: given enough time it should be possible to get just about every single atom of a junk car out and used in something, even if in some cases it takes years.  But if it is reclaiming dead land, does not cause harm, and takes no significant human labor, who cares?  Let it eat the car.  So one member of the early team is an expert in electrochemistry.  What else do we need?  Perhaps a cadre of professors with existing programs that line up with the overall mission is needed.  I need to compose the list of experts next.\n",
    " \n"
   ]
  },
  {
   "cell_type": "markdown",
   "metadata": {},
   "source": [
    "# I made a 3 phase motor and it was crappy \n",
    "\n",
    "I finally made a motor with three coils in a triangle.  It was a healthy reminder that this is what I’m fighting against in my design philosophy.  Why do I hate motors as they are designed now?  Because they’re not human technology.  They work “well” in efficiency, power, or whatever else engineers choose to optimize for but they are touchy.\n",
    "\n",
    "\n",
    "If you crudely make a triangle with duct tape and 3d printed hand wound coils, then tape some magnets to a shaft in a couple ball bearings and drive the field around in a circle, it sucks.  You can make it spin fast and with a reasonable amount of torque, but it stalls totally at random and reverses direction, oscillates, etc.  It’s bullshit.  Now, I’m doing a lot of things shitty here, so it’s to be expected.  I have no feedback, am not bothering with PWM, just doing all on or all off, use only one direction for each coil, and only sort of have the coils lined up right, and there’s some lateral play in the position of the coils relative to the shaft, which also wiggles.  But that same setup with just a single coil, with just one direction and no PWM, works comparatively smoothly.  It’s bidirectional, but doesn’t stall very easily and restarts quickly.  Pretty much any distance will work for driving the magnet, and any magnet shape, etc.  So a human can get it all tuned up by hand trivially with any of many possible arrangements.\n",
    "\n",
    "And that is the goal!!! Human technology, that you can modify and understand easily, that you don’t have to be some fancy pants engineer to use or understand or modify.  What was missing until today was a way to use my system to apply a bias to the direction so that you can have the motor go one way or the other and select that with software.  I think there are a lot of ways to solve this problem, but my solution is: two drive coils, angled about 120 degrees from each other, next to each other, with a sense coil between them pointed in toward the same center as the drive coils.  One drive coil is repulsive and one is attractive, and they’re triggered by the sign of the EMF in the pickup coil.  The flux maximum and minimum are when the magnets are aligned or anti aligned with the pickup coil, so this is where the time derivative is zero, so also where the EMF is zero.  Thus that line of symmetry between he drive coils defines the line of sign change of the drive.  Switch which coil is triggered by which sign and you switch the direction.\n",
    "\n",
    "This simple system should work to make controlled motors that can switch direction for turning wheels with some torque. That means I can make a wheelie cart controlled over the wifi network as well as a coil winding machine, both of which are important milestones in this project.  Also, I *think* a small variation of this should work to drive magnets around in an oscillatory  orbit in one direction or the other, possibly working for pump action.\n"
   ]
  },
  {
   "cell_type": "markdown",
   "metadata": {},
   "source": [
    "# In defense of certain units \n",
    "\n",
    "First of all let’s get one thing straight: the United States is not only a signatory to the Treaty of the Meter, we are one of the most significant contributors in the world to that system.  Known by the American public as “the metric system” and by scientists as the “SI”, the international standard of units is just as much the law of the land in the U.S. as it is anywhere else.  When we use a non-metric unit like the foot or the yard, there is no legal or scientific ambiguity.  A yard is 0.9144 meters, exactly, and a foot is 1/3 of a yard exactly.\n",
    "\n",
    "The meter is defined to extremely high precision and accuracy off of the atomic clock and the fixed speed of light in a way that all signatories to the meter treaty agree upon, and which the US is very much part of maintaining.   A legal agreement from the 1950s connects anything in the Imperial distance system back to the legally agreed upon meter.  So all this blather about the US being “behind” or “primitive” for “not being on the metric system” seems like a lot of hot air to me.  The SI allows for use of units outside the official base and derived units as long as the relationship to the official units is defined.  A unit I personally find much more annoying than the inch or foot is the Angstrom.  I know it’s useful for atomic physics and chemistry, but once something is bigger than 1 nm, why the hell add a zero?  Yet doing that is not a American tic in particular, and seems to infest science labs all over the world for some reason.\n",
    "\n",
    "But it is not my plan to talk about any of that here. I want to defend the use of the psi, or pounds per square inch and the psig, or pounds per square inch gauge.  First of all, these both measure pressure. Pressure is the amount of force on some surface area per unit area.  Thus, if you multiply a pressure by an area you get a force.  If the pressure is in pounds per square inch and you multiply by an area in square inches you get a force in pounds.\n",
    "\n",
    "But of course this is not the SI unit of pressure.  The SI unit of pressure is the pascal (official SI usage indicates named units like this are not capitalized unless abbreviated, e.g. “kelvin” not “Kelvin” and “ampere” not “Ampere” even though those are symbolized by capital K and A).  The SI unit of force is the newton, and area is of course square meters.  So one pascal is one newton per square meter.  And that is a TINY pressure.  Atmospheric pressure at sea level is about 101,000 pascals.  So any talk of pressure of weather or gasses near atmospheric pressure will always deal with 100,000’s of pascals or 100’s of kPa.  This has led to the common use in physical sciences of the “bar” and the “millibar”, which are 100,000 pascals and 100 pascals, respectively.  So we say that atmospheric pressure is about 1 bar at sea level and about 850 millibar in Denver, one mile above sea level.  I think this is a pretty good unit for a lot of things since it relates back to pascals easily and also to atmosphere, which we often care about in science.  In the USA and I think Italy the torr is also often used. Since 760 Torr = 1 atmosphere it is similar in order of magnitude to a millibar and when things are only done to an order of magnitude people often use them as close to equivalent.  I have no defense of the torr. On the other hand I am not sure it does much harm, it’s just a crappy unit used when you don’t care much about the exact value of things you probably are not measuring that accurately.\n",
    "\n",
    "But why do I care about the psi?  Because of its amazingly simple conversion between practical force values and practical pressure values.  Even if you’re not familiar with psi if you know what a pound and an inch is, it’s pretty obvious if you know how to divide things on a calculator.  And that often yields numbers which are not just easy to understand, they can aid in safe handling of high and low pressure systems.  It’s not always obvious that a “small” pressure in a tank of gas or liquid will cause the kind of destruction that can happen all to easily in systems with pumps.  But suppose you have 1 psi pushing on a thin sheet metal panel that’s about 3 yards X 3 yards.  That’s about 10,000 square inches.  So multiplying by 1 you instantly see that that is 10,000 pounds.  Can thin aluminum sheet handle that? Or a large glass window?  No.  But wait, there’s more!  pressure is usually measured in a physics lab as an absolute quantity.  Thus atmospheric pressure is, as stated above, about 101 kPa.  But in the every day world it often makes more sense to measure all pressure not relative to a vacuum but relative to atmospheric pressure.  Atmospheric pressure at sea level is about 14.7 psi, so conversion to this relative measure involves subtracting 14.7 from absolute pressure, or a bit less at altitude.  And now we’ve finally arrived at the “psig”, which is probably the most common pressure unit used in a lot of gas and fluid engineering applications, and with good reason.\n",
    "\n",
    "Going back to the window example, a window sitting in air at atmospheric pressure has many 10’s of thousands of pounds of force pushing it from both sides which exactly cancel.  That’s an interesting science fact but not useful for figuring out when air will break the window.  On the other hand, if you read literature on the effect of nuclear weapons, the shock wave from the blast is generally characterized in psi of overpressure, effectively the same as psig, in radii going out from the blast center.  And suddenly this makes horrifying sense.  2 psi overpressure on a big window really is many 10’s of thousands of pounds being suddenly applied to ONE side of the window.  This will not only destroy the window, but if you scale it up to buildings you get even more astronomical forces pointing in all the wrong directions and the devastation makes physical sense.  It only takes single digits of psi overpressure to cause total destruction of all structures in the path of a blast wave.\n",
    "\n",
    "These pictures of destruction are part of why I think psi and psig are important.  One very important thing you get by subtracting atmospheric pressure is the appearance of negative pressures.  Suppose now you have a large fuel tank that is at “only” -1 psig, or 1 psi of vacuum.  Again, you can add up that pressure difference over the area, and imagine this happened to one of those huge tanks used for storage by refineries.  Approximate this as a cube 40 feet on a side, and you get 5*(40*12)^2 = about 1 MILLION pounds.  The moral of the story is a small sounding pressure difference of 1 psi can cause incredible destructive force again, causing huge steel structures to collapse like a aluminum beer can in your hand very quickly.  And as you know from beer and pop cans, crushing them takes way less force than exploding them.  This means that the same vessel that works great as a space ship(i.e. inflated metal bag of air) will collapse instantly under even small amounts of vacuum when in atmosphere.\n",
    "\n",
    "Thus I argue that the psi and psig are not only useful for students of physics to learn more viscerally what pressure is, but are relevant to safety of technicians using systems with pumps and plumbing in them.  The average technician, even in a country that is “on the metric system” might or might not be familiar with the whole conversion system between bar, millibar, pascals, newtons, meters, square cm etc.  But every plumber or welder in the US can readily convert psi to pounds and say “holy shit that’s a lot of pounds”.  And it’s that “holy shit” factor which can contribute in tangible ways to the safety of pressure and vacuum systems.\n",
    "\n",
    "From an education standpoint I see no excuse not to learn all of them, however: psi, psig, pascals, bar, millibar, and torr.  Because they’ll all come up.  All these units are all around you, at least in the US, and they’re not going away, you should know all of them if you want to get anything done with vacuums and high pressures.  But what I’m arguing for is after you learn all of them, don’t be a dick about all the people in blue collar technical positions who rely on psi.  It’s a fine unit.  Learn it, love it.\n"
   ]
  },
  {
   "cell_type": "markdown",
   "metadata": {},
   "source": [
    "# Novelty in Science \n",
    "\n",
    "One of the many things I think has gone wrong with science is the obsession with novelty.  All of the incentives that influence the actions of professional scientists are biased toward a very narrow definition of novelty.  For the private sector scientist, patents and new markets are the motivation, for an academic scientist it’s publications, prestige, and expansion of influence in the field.  For government it’s somewhere in between these.\n",
    "\n",
    "What this means is that a trivial result involving whatever the latest trendy physical system is always gets precedent over a useful result on something like water or guitar strings.  The example I’m the most familiar with is in quantum “computing”.  The most trendy work in that field gets published in both Science and Nature routinely.  Why is this?  Is it because those are applied journals that track pure engineering advances?  No, clearly not.  Is it that the results of the top groups in the quantum computing field are fundamentally advancing quantum theory?  Again, clearly not; most of the results are based on math worked out over 80 years ago.  So why Nature and Science?  Because the systems are trendy, of course!\n",
    "\n",
    "Now someone might argue that all this is ok, because there is a great reason those systems are trendy: they might actually yield a amazing new kind of computer!    Perhaps.  But if that’s true, and the value of this work is all how it pushes the practical engineering gaol forward, it seems clear these publications are driven by all the wrong metrics.  But the way these papers are written and treated by the peers who read them is in fact not about practicality at all.  It’s about “demonstrating quantum mechanics”, presumably some new neat wave function or something.  Again, that is something I think has value, but again it’s way off base from how it’s sold.   If you really want to understand some simple interaction of a harmonic oscillator and two level system, you find classical systems of coupled modes that do the same thing.  So if you are driven by pedagogy, demonstrations, and curiosity, do you do the cavity QED experiment or the electromechanical experiment at room temperature in audio frequencies?  Surely mechanical and acoustic vibration machines are more relevant to natural curiosity, since they’re in the world we actually can experience physically.\n",
    "\n",
    "Who cares, what’s wrong with all this, and why is it like this?  I believe all this obsession is about money, power, and control.  If you view the primary objective of a wealthy professional class to expand and preserve itself, the current regime makes sense.  As long as anything involving clever use of coupled modes to do useful things means expensive lasers and exotic materials or gasses, it continues to be controlled by those who already control those gatekeeper materials.  If young students of the physical sciences were trained in practical use of physical ideas to interact with the world, they would not need the system that created them, and each generation would pass on control to the next with unknown consequences.    To me that’s the heart of what this is all about: control.  The purpose of the modern university system has *always* been to create a malleable class of corporate soldiers to keep the system running.  And the supposedly practical departments should be viewed through that sense every bit as much as the more overtly ideological political science and economics departments.\n",
    "\n",
    "I argue for a physics education based on free people teaching free people in freedom for free.  That is I want to teach people practical physics completely outside the system, geared toward owning the power that this physics can control, including the power to pass those skills on.  Onward to the revolution.\n"
   ]
  },
  {
   "cell_type": "markdown",
   "metadata": {},
   "source": [
    "# The Science I walked Away from \n",
    "\n",
    "The way I’ve experienced science is totally unrelated to how I might have expected it to be based on what I learned in school growing up.  When I look back at the whole thing as I’ve seen it, I see it as a rotten institution that I want to have nothing more to do with.\n",
    "\n",
    "How was I brought up to think it worked based on crap you learn in school and in books?  Curiosity draws the scientist toward some question about how the world works.  Based on existing science knowledge, a hypothesis is formed, and based on scientific skills an experiment is designed to verify or falsify that hypothesis.  Now, with as much objectivity as possible, the researcher carries out the experiment, analyzes the data, and if needed adds some change to the body of what we call knowledge. Then, based on greater knowledge, this all repeats.  All this is glorious and good. If it’s not obvious how great it is, just look at all that great stuff it makes! Antibiotics!  Refrigeration!  Nuclear energy! The future is glorious, and it’s just a natural side effect that this glory reflects on the scientist.  This is as it should be!  Scientists, almost by accident, since they’re driven totally by pure curiosity, happen to produce the raw materials for an infinitely expanding and glorious future.\n",
    "\n",
    "Obviously my views have changed, based on what I’ve seen.\n",
    "\n",
    "Let’s take a look at how my career would have worked had I continued.  I started physics in high school, loved it, wanted to know more, and studied it in college, along with math.  Note that every step of this was influenced by science fiction.  I got sucked into physics and math in middle school because we wanted to understand how someone could build a TARDIS as seen in Dr. Who.  Then in high school, I watched Star Trek, where we learn that the natural next step in science is some kind of application of general relativity and quantum mechanics to understand space time well enough to manipulate it, as in Dr. Who.  We see a future where hundreds of years in the future Einstein and Hawking are both considered important enough that the crew of a space ship play poker with them in their spare time.\n",
    "\n",
    "Then I got to college and found out what the science is like that the people who claim to have “gotten Einstein’s office” do.  In short, it sucks.  High energy physics has done nothing useful in decades, either for technology or for understanding how the world really works.  And it’s structured in GIANT hierarchies where almost everyone is a tiny cog in a giant machine. Most likely in that field you will work on something that is engineering, math or management and not science at all in any classic sense of curiosity driven research.  And then, after decades of hard work, you will get some result that is useless to society and the rest of science.  All the while watching your funding slowly diminish in real dollars and crush the culture of your field.  So, fuck that.  Most of the people I went to college with who wanted to do that stuff as freshman figured out otherwise after a couple years or so.  Most of us found that much more interesting work is happening in atomic physics, nuclear physics, biophysics, and solid state physics, or just left altogether.\n",
    "\n",
    "But then as an undergrad I was exposed to yet another sci fi world that changed everything.  I read the Diamond Age by Neal Stephenson, and my whole view changed.  In that book, while dystopian in some ways, there is still a glorious and shiny future available for those who apply physics correctly.  That world was based on “molecular nanotechnology” as described in the 80s and 90s by K. Erik Drexler, Ralph Merkle etc. I *believed* in that!  I was totally obsessed.  I believed I would one day become an immortal planet sized being wandering the universe studying physics if I could just be there when the big breakthrough happened.  That drew me to nano physics/”condensed matter”, and I worked in a top lab at Berkeley for the year in that field after I finished undergrad there.\n",
    "\n",
    "That was super fun, I learned a ton, and it really was a plugged in lab.  Great funding, great facilities, everyone went on to get top jobs, our advisor was super famous etc.  And it led smoothly to another research position based on where I was living the next year, at a top lab at Yale, also in nano physics.of sorts.  That led to a phd, and before graduating I had a job lined up based on connections from that lab.  I ended up going to work for someone whose phd adviser got his phd under the professor who my phd advisor did his post doc under.  I moved fields slightly but ended up back in a field that overlapped with my phd advisor’s phd advisor from caltech.  My point is that this whole process is very much a “family affair”: once you’re in the inner circle of elite science you tend to move around in it based on personal/professional relationships, not based on the science itself.\n",
    "\n",
    "To be clear, let me go back to the idealized picture from my youth.  I would have imagined something like this: I’m curious about how electricity moves through various materials, so I pick some material that is particularly interesting, dive in, and hope that it turns out to yield fruit.  Nope.  What you work on as a professional scientist is more of a tribal identity than a question that occurred to you based on looking at the world as you find it around you.  Now the caveat to that is you never want to compete directly with your advisor after moving on in your career, because it’s essential that they support you and that goes against that.  Also they have a head start by many years so it’s not a good idea.  So typically what one does is move to a slightly separate sub-tribe for the post doc than you did for the phd.  That’s what I did.  So then, the next step would have been to apply for a “real job” as a faculty member, based on some ambitious hybrid of those main sub-tribes I was exposed to.  Maybe throw in some twist to that that makes it my own, some slightly “new” idea, usually one that’s already around that you know will work, but that is not being pushed at the moment.  It also helps to blend in something fashionable(the role of fads and fashions in science is about 10 more long blog posts so I’ll try not to go into that here).\n",
    "\n",
    "And where would that leave me?  What questions would I be answering if I did that?  In my view, none.  The main “question” if you want to call it that, from my old field is “can the United States government successfully build a quantum computer to break codes?”  That is the central question that all work in my old field feeds into.  People find side questions along the way, but in the end that’s where all the money and power are and if you’re not pushing that objective along, you’ll lose out on both and become irrelevant or unemployed.  And what exactly does this work involve?  Are we building a computer that you can actually use? No. Are we learning how the universe works?  No, quantum mechanics is not being changed by this work, the theory stands as it has for decades in terms of its basic structure and how it explains things like atoms.\n",
    "\n",
    "What it is, in fact, is a sort of stunt based extreme sport.  Just as in skateboarding you’re constantly pushing to ollie over a bigger object, spin the board more times in a kick flip, or get a higher air on a vert ramp, the modern “scientist” is usually trying to demonstrate some sort of epically extreme “trick” with a better score than their predecessor. In the case of quantum information “science”, this means longer coherence time qubits, better control, more gates, scaling up the systems, etc.  As in any extreme sport, you get points for style: even if your coherence time is not much better than other groups, if you do it in some super macho bad ass way, you still get props at the conferences, which lead back to more money and respect.\n",
    "\n",
    "But what if I just want to build a microprocessor out of mud and soot?  My background in solid state physics should set me up for that. It appears that it should be doable.  Even if it’s huge and slow, doing fab without the current fab infrastructure would be huge for society, and it’s frankly more scientifically interesting to study dirt and soot than some fancy bullshit. But that’s not “serious”.  If you study what is effectively dirt, but do it in a way with a lot of expensive equipment and trendy materials(e.g. graphene!) it’s called science and you can still play with the big kids.  But if you simply grab some random dirt and start playing with it and measuring it with a 20 dollar Arduino board, you’ve gone rogue, become a kook.  And theory is even worse.  Theorists not only have no interest in helping society solve real problems or studying the world around them in a way that might possibly be related to curiosity, they won’t even help experimentalists solve problems that would get money and power if they were solved in the applied or experimental parts of science.  They can only work on stuff that’s so obscure that only another theorist can do it, because that’s how you get money and power within theory.  So inevitably this leads to a sort of academic wankery event horizon where at the worst you have string theorists totally disconnected from any kind of reality or experiment or society at large, doing useless math no one but them can understand and expecting the rest of the world to take them seriously as the purveyors of the Ultimate Truth.\n",
    "\n",
    "I’m going to cut this short now and do something else, but in short here is what I’ve come to believe.  Science as a world view and science as an institution act like a religion, is less useful all the time, is not fun to do, is a net negative for society, and generally is just a huge bummer.  I’m not sure what to call this thing I’m trying to do now, but it’s not that.  Fuck science.\n"
   ]
  },
  {
   "cell_type": "markdown",
   "metadata": {
    "collapsed": true
   },
   "source": [
    "# Free Energy\n",
    "\n",
    "What is free energy?  Usually this term is used by various conspiracy nuts to describe ways of \"getting energy for free\" from something like the zero point quantum energy or the Earth's magnetic field.  Both of these are nonsense, as are all the free energy schemes presented throughout youtube and the rest of the Internet.  \n",
    "\n",
    "No, we are told, energy is not \"free\".  It has to COME from somewhere.  But this notion is based on a capitalist world view.  Energy is deemed \"free\" if you don't have to get it from a mine and labor.  Renewable energy is not free: much labor is expended to build the infrastructure out of mined minerals which have a finite lifetime and eventually go to landfill to be replaced by more mining and labor.  \n",
    "\n",
    "But if free energy is energy that can be useful but is not derived from mining and labor, then free energy can and does exist.  Energy not spent on air conditioning when you build under a shade tree is free energy.  Energy from the sun that warms through your front window is free energy.  And the electrical energy stored in salvaged rebuildable capacitors from salvaged rebuildable robots storing ambient energy is free. \n",
    "\n",
    "Capitalist logic always looks for ways to show that things are not really free, because capitalism is based on the ideas that value comes from labor and mined minerals.  If we approach industrial development from an anarchist perspective, however, we seek to build technology which is truly free, where no mineral extradction is implied in its construction.  \n",
    "\n",
    "A technlogy is free when it gives more than it takes.  For instance a robot might require a few hours of service from human labor once a year.  But if it does the equivalent of even just a few hundred hours of human labor it has a net negative cost in labor-value.  In terms of minerals if it is built from minerals that were polluting the world around us, the mineral cost is negative: as opposed to subtracting value from the land as mining does it adds value to the land.  And finally the energy of the technology must be free in the sense that it absorbs from something unwanted elsewhere.  \n",
    "\n",
    "Ultimately what is being built here is a form of artificial life.  Life takes only what can be given from somewhere else.  Our technology exists in a world where humanity is God.  This all goes back to the notion that the structure of our technology is based on the monotheism of its initial architects.  We have built a technilogical world where Man is God and only God is above Man(to use biblical sounding gibberish).  \n",
    "\n",
    "But this technology will be alive, will exist as animals and plants do, without a God.  This means that while it needs humanity to help it survive at all stages and can easily be controlled by humanity it will exist on its own and can funtion to a large extent on its own, following it's hardware-progammed logic to find what it needs in the environment to keep living and carying out its mission.  \n"
   ]
  },
  {
   "cell_type": "code",
   "execution_count": null,
   "metadata": {
    "collapsed": true
   },
   "outputs": [],
   "source": []
  }
 ],
 "metadata": {
  "kernelspec": {
   "display_name": "Python 2",
   "language": "python",
   "name": "python2"
  },
  "language_info": {
   "codemirror_mode": {
    "name": "ipython",
    "version": 2
   },
   "file_extension": ".py",
   "mimetype": "text/x-python",
   "name": "python",
   "nbconvert_exporter": "python",
   "pygments_lexer": "ipython2",
   "version": "2.7.10"
  }
 },
 "nbformat": 4,
 "nbformat_minor": 0
}
